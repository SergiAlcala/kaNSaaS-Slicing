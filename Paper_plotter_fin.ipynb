{
 "cells": [
  {
   "cell_type": "code",
   "execution_count": 1,
   "metadata": {},
   "outputs": [],
   "source": [
    "import sys\n",
    "\n",
    "\n",
    "from Global_Functions import Functions as F\n",
    "from Global_Functions import LDV as ldv\n",
    "from Global_Functions import Plotter as Plotter\n",
    "from Global_Functions import *\n",
    "from matplotlib.lines import Line2D\n",
    "\n",
    "from matplotlib.patches import Ellipse\n",
    "import matplotlib.patches as mpatches\n"
   ]
  },
  {
   "attachments": {},
   "cell_type": "markdown",
   "metadata": {},
   "source": [
    "# Functions"
   ]
  },
  {
   "cell_type": "code",
   "execution_count": 2,
   "metadata": {},
   "outputs": [],
   "source": [
    "def create_plots_metrics(metric_list,Q,ylabel='',label='',xlabel='',title='',Daylight=False,Distance_Optimal=False,\n",
    "Imrovenent_over_std_app=False,metric2nd_list=None,legend=False,ax=None,idx=None,color=None,marker=None,transparency=1):\n",
    "        try:\n",
    "            df=Plotter.create_df_plotly(metric_list,Q)\n",
    "        except:\n",
    "            df=Plotter.create_df_plotly(metric_list.T,Q)\n",
    "\n",
    "        x=Q\n",
    "        means=np.array(df.mean())\n",
    "        upperbound=df.where(df>=means)\n",
    "        lowerbound=df.where(df<means)\n",
    "        upper_std=upperbound.std()\n",
    "        lower_std=lowerbound.std()\n",
    "        if Daylight:\n",
    "            df_day=Plotter.create_df_plotly(metric_list,Q,daylight=Daylight)\n",
    "        plt.title(title)\n",
    "        if Distance_Optimal:\n",
    "            plt.title(f'{title} - Distance Optimal')\n",
    "            if metric2nd_list is not None:\n",
    "                try:\n",
    "                    df2nd=Plotter.create_df_plotly(metric2nd_list,Q)\n",
    "                except:\n",
    "                    df2nd=Plotter.create_df_plotly(metric2nd_list.T,Q)\n",
    "                if Daylight:\n",
    "                    df2nd_day=Plotter.create_df_plotly(metric2nd_list,Q,daylight=Daylight)\n",
    "                    plt.plot((1-df_day.mean()-(1-df2nd_day.mean()))/(1-df_day.mean()),label='Reduction of distance to optimal Daylight')\n",
    "    \n",
    "                if ax:\n",
    "                    ax[idx].plot((1-df.mean()-(1-df2nd.mean()))/(1-df.mean()),label='Reduction of distance to optimal')\n",
    "                else:\n",
    "                    plt.plot((1-df.mean()-(1-df2nd.mean()))/(1-df.mean()),label='Reduction of distance to optimal Ratio')\n",
    "               \n",
    "            else:\n",
    "                plt.plot(1-df.mean(),label=f'{xlabel}')\n",
    "                if Daylight:\n",
    "                    plt.plot(1-df_day.mean(),label=f'Daylight {label}')\n",
    "        elif Imrovenent_over_std_app:\n",
    "            if metric2nd_list is not None:\n",
    "                try:\n",
    "                    df2nd=Plotter.create_df_plotly(metric2nd_list,Q)\n",
    "                except:\n",
    "                    df2nd=Plotter.create_df_plotly(metric2nd_list.T,Q)\n",
    "                \n",
    "                if Daylight:\n",
    "                    df2nd_day=Plotter.create_df_plotly(metric2nd_list,Q,daylight=Daylight)\n",
    "                    plt.plot((df2nd_day.mean()-df_day.mean())/df_day.mean(),label='Improvement over standard approach Daylight')\n",
    "                \n",
    "                else:\n",
    "                    if np.any(ax!=None):\n",
    "                        Improvement=(df2nd.mean()-df.mean())/df.mean()\n",
    "                        ax[idx].plot(Improvement,label=label,marker=marker,color=color,alpha=transparency)\n",
    "                    else:\n",
    "\n",
    "                        plt.plot((df2nd.mean()-df.mean())/df.mean(),label='Improvement over standard approach')\n",
    "    \n",
    "            else:\n",
    "                plt.plot(1-df.mean(),label=f' {label}')\n",
    "                if Daylight:\n",
    "                    plt.plot(1-df_day.mean(),label=f'Daylight {label}')\n",
    "        else:\n",
    "            if np.any(ax!=None):\n",
    "                ax[idx].plot(df.mean(),label=f'{label}',color=color,marker=marker,alpha=transparency)\n",
    "                ax[idx].fill_between(x, means- lower_std, means + upper_std, color=color, alpha=0.2)\n",
    "            else:\n",
    "                plt.plot(df.mean(),label=f' {label}',marker='o')\n",
    "            if Daylight:\n",
    "                plt.plot(df_day.mean(),label=f'Daylight {label}',marker='o')\n",
    "        if ylabel:\n",
    "            if np.any(ax!=None):\n",
    "                ax[idx].set_ylabel(ylabel)\n",
    "            else:\n",
    "\n",
    "                plt.ylabel(ylabel)\n",
    "        if xlabel:\n",
    "            if np.any(ax!=None):\n",
    "                ax[idx].set_xlabel(xlabel)\n",
    "            else:\n",
    "                plt.xlabel(xlabel)\n",
    "  \n",
    "        if legend:\n",
    "            if np.any(ax!=None):\n",
    "                ax[idx].legend()\n",
    "            else:\n",
    "                plt.legend()\n",
    "\n",
    "\n",
    "        \n",
    "           "
   ]
  },
  {
   "cell_type": "code",
   "execution_count": 3,
   "metadata": {},
   "outputs": [],
   "source": [
    "def savefigs_all_formats(Filesave_path,fig_name):\n",
    "    png_fpath=f'{Filesave_path}/png/'\n",
    "    if not os.path.exists(png_fpath):\n",
    "        os.makedirs(png_fpath)\n",
    "    pdf_fpath=f'{Filesave_path}/pdf/'\n",
    "    if not os.path.exists(pdf_fpath):\n",
    "        os.makedirs(pdf_fpath)\n",
    "    eps_fpath=f'{Filesave_path}/eps/'\n",
    "    if not os.path.exists(eps_fpath):\n",
    "        os.makedirs(eps_fpath)\n",
    "    plt.savefig(f'{png_fpath}/{fig_name}.png',dpi=300,bbox_inches='tight')\n",
    "    plt.savefig(f'{pdf_fpath}/{fig_name}.pdf',dpi=300,bbox_inches='tight')\n",
    "    plt.savefig(f'{eps_fpath}/{fig_name}.eps',bbox_inches='tight')"
   ]
  },
  {
   "cell_type": "code",
   "execution_count": 4,
   "metadata": {},
   "outputs": [],
   "source": [
    "def export_legend(legend, filename=\"legend.png\"):\n",
    "    fig  = legend.figure\n",
    "    fig.canvas.draw()\n",
    "    bbox  = legend.get_window_extent().transformed(fig.dpi_scale_trans.inverted())\n",
    "    fig.savefig(filename, dpi=\"figure\", bbox_inches=bbox)\n"
   ]
  },
  {
   "cell_type": "code",
   "execution_count": 5,
   "metadata": {},
   "outputs": [],
   "source": [
    "def Plotter_csv_fill_b(benc_pd,us_pd,typess='p',marker='o',y_Range=0.7,vline=True,exp_type='Q',dataset='real'):\n",
    "    fig,ax= plt.subplots(1,1,figsize=(6.5,5)) ### (6.5,5 ) for paper\n",
    "   \n",
    "    marker=None\n",
    "\n",
    "    OB_label=''\n",
    "    SP_label=''\n",
    "\n",
    "    ax.plot(us_pd.OB, label=OB_label +\"kaNSaaS\" ,marker=marker,color='#ff7f0e')\n",
    "    ax.plot(benc_pd.OB, label=OB_label+\"CoNEXT\" ,marker=marker,color='#1f77b4')\n",
    "    ax.plot(us_pd.SP, label=SP_label+'Legacy NSaaS' ,marker=marker,color='#2ca02c')\n",
    "    \n",
    "    ax.set_ylabel(r'$\\bar{D}_{p}$')\n",
    "\n",
    "    #ax.set_xticks(np.linspace(0,1,11))\n",
    "    ax.grid(axis='y')\n",
    "   \n",
    "    ax.tick_params('x',labelrotation=-60)\n",
    "    \n",
    "\n",
    "\n",
    "    # Fill between conext and kansaas\n",
    "    ax.fill_between(benc_pd.index,benc_pd.OB,us_pd.OB,facecolor='grey',alpha=0.3)\n",
    "\n",
    "    #Write the improvement mean over the fill\n",
    "    mean=np.mean(us_pd.OB/benc_pd.OB)\n",
    "\n",
    "   \n",
    "    el = Ellipse((2, 1), 0.5, 0.5)\n",
    "    # ax.add_patch(el)\n",
    "    ec='black'\n",
    "    if exp_type=='Q':\n",
    "        #ax.set_xlabel(r'$n_{alloc} · c_{OPEX} / M_{s}$')\n",
    "        ax.set_xlabel(r'Resource allocation cost, $c_{OPEX}$')\n",
    "        if typess=='p':\n",
    "            if dataset == 'real':\n",
    "                #ax.text(0.45,0.6,f'{int(np.round(mean*100)-100)}\\%')  ### Real 0.45,0.6\n",
    "                ax.annotate('',\n",
    "                            xy=(0.45, 0.7), xycoords='data',\n",
    "                            xytext=(0.1, 0.2), textcoords='data',\n",
    "                            arrowprops=dict(facecolor='black', arrowstyle='fancy',fc=\"0.6\", ec=ec,\n",
    "                            patchB = el,                           \n",
    "                            ))\n",
    "                ax.text(0.05,0.05,f'Average gain {int(np.round(mean*100)-100)}\\%')  ### Real 0.45,0.6\n",
    "            elif dataset == 'synthetic':\n",
    "                 ## Add fancy arrow\n",
    "                ax.annotate('',\n",
    "                            xy=(0.5, 0.55), xycoords='data',\n",
    "                            xytext=(0.1, 0.2), textcoords='data',\n",
    "                            arrowprops=dict(facecolor='black', arrowstyle='fancy',fc=\"0.6\", ec=ec,\n",
    "                            patchB = el,                           \n",
    "                            ))\n",
    "                ax.text(0.03,0.03,f'Average gain {int(np.round(mean*100)-100)}\\%')  ### Synthetic 0.5,0.55\n",
    "         \n",
    "        if typess=='r':\n",
    "\n",
    "            ax.text(0.5,0.55,f'{100- int(np.round(mean*100)-100)}\\%')\n",
    "\n",
    "    elif exp_type=='Tadm':\n",
    "        ax.set_xlabel(r\"RA block interval, $T_{RA}$ [min]\")\n",
    "        if typess=='p':\n",
    "            if dataset == 'real':\n",
    "                ## Add fancy arrow\n",
    "                ax.annotate('',\n",
    "                            xy=(56, 0.4), xycoords='data',\n",
    "                            xytext=(60, 0.7), textcoords='data',\n",
    "                            arrowprops=dict(facecolor='0.8', width= 1, headwidth = 2))\n",
    "                \n",
    "                ax.text(45,0.72,f'Average gain {int(np.round(mean*100)-100)}\\%') ### Synthetic 56,0.35\n",
    "            elif dataset == 'synthetic':\n",
    "                ## Add fancy arrow\n",
    "                ax.annotate('',\n",
    "                            xy=(56, 0.27), xycoords='data',\n",
    "                            xytext=(60, 0.7), textcoords='data',\n",
    "                            arrowprops=dict(facecolor='black', arrowstyle='fancy',fc=\"0.6\", ec=ec,\n",
    "                            patchB = el,                           \n",
    "                            ))\n",
    "                ax.text(45,0.72,f'Average gain {int(np.round(mean*100)-100)}\\%') ### Real 56,0.27\n",
    "                \n",
    "           \n",
    "        ax.set_xticks([0,60,120])\n",
    "        ax.set_xticklabels([0,60,120])\n",
    "\n",
    "    elif exp_type=='C_tot':\n",
    "        ax.set_xlabel(r'Normalized available capacity, $\\bar C_{r}^{(l)}$')\n",
    "        #ax.set_xlabel(r'Normalized available capacity, Capacity / max. Throughput')\n",
    "        if typess=='p':\n",
    "            if dataset == 'real':\n",
    "                #ax.text(1.2,0.45,f'{int(np.round(mean*100)-100)}\\%') ### Real 1.2,0.45\n",
    "                ## Add fancy arrow\n",
    "                ax.annotate('',\n",
    "                            xy=(1.1, 0.5), xycoords='data',\n",
    "                            xytext=(1.2, 0.7), textcoords='data',\n",
    "                            arrowprops=dict(facecolor='black', arrowstyle='fancy',fc=\"0.6\", ec=ec,\n",
    "                            patchB = el,                           \n",
    "                            ))\n",
    "                ax.text(1.05,0.75,f'Average gain {int(np.round(mean*100)-100)}\\%') ### Synthetic 1.1,0.3\n",
    "            elif dataset == 'synthetic':\n",
    "\n",
    "                ## Add fancy arrow\n",
    "                ax.annotate('',\n",
    "                            xy=(1.1, 0.35), xycoords='data',\n",
    "                            xytext=(1.2, 0.7), textcoords='data',\n",
    "                            arrowprops=dict(facecolor='black', arrowstyle='fancy',fc=\"0.6\", ec=ec,\n",
    "                            patchB = el,                           \n",
    "                            ))\n",
    "                ax.text(1.05,0.75,f'Average gain {int(np.round(mean*100)-100)}\\%') ### Synthetic 1.1,0.35\n",
    "            \n",
    "            arrowprops=dict(arrowstyle=\"fancy\",\n",
    "                                            connectionstyle=\"arc3\",facecolor='black',fc='0.6'),\n",
    "    if typess=='r':\n",
    "\n",
    "            ax.text(0.5,0.55,f'{100- int(np.round(mean*100)-100)}\\%')\n",
    "\n",
    "\n",
    "   \n",
    "        \n",
    "    if vline:\n",
    "        if exp_type=='Q':\n",
    "            ax.axvline(0.9,linewidth=20,color='grey',alpha=0.2)\n",
    "        elif exp_type=='C_tot':\n",
    "            ax.axvline(1,linewidth=20,color='grey',alpha=0.2)\n",
    "        elif exp_type=='Tadm':\n",
    "            ax.axvline(30,linewidth=20,color='grey',alpha=0.2)\n",
    "    \n",
    "    if exp_type !='COST':\n",
    "        ax.set_ylim([0,1.05])\n",
    "\n",
    "    #ax[1].set_yscale('log')\n",
    "    fig.tight_layout()\n",
    "    plt.tight_layout()"
   ]
  },
  {
   "cell_type": "code",
   "execution_count": 6,
   "metadata": {},
   "outputs": [],
   "source": [
    "def select_index_values(data,index):\n",
    "    data=data[index]\n",
    "    return data"
   ]
  },
  {
   "cell_type": "code",
   "execution_count": 7,
   "metadata": {},
   "outputs": [],
   "source": [
    "import datetime\n",
    "Date=datetime.datetime.now().strftime(\"%d_%m_%Y\")\n",
    "\n",
    "Filesave='data/Results/Figs/FINAL_PAPER/'+Date+'/'\n"
   ]
  },
  {
   "cell_type": "code",
   "execution_count": 8,
   "metadata": {},
   "outputs": [
    {
     "data": {
      "text/plain": [
       "'data/Results/Figs/FINAL_PAPER/20_09_2023/'"
      ]
     },
     "execution_count": 8,
     "metadata": {},
     "output_type": "execute_result"
    }
   ],
   "source": [
    "Filesave"
   ]
  },
  {
   "attachments": {},
   "cell_type": "markdown",
   "metadata": {},
   "source": [
    "# CSV Load"
   ]
  },
  {
   "attachments": {},
   "cell_type": "markdown",
   "metadata": {},
   "source": [
    "## Synthetic Data (with prediction)"
   ]
  },
  {
   "attachments": {},
   "cell_type": "markdown",
   "metadata": {},
   "source": [
    "### Ctot Analysis"
   ]
  },
  {
   "cell_type": "code",
   "execution_count": 10,
   "metadata": {},
   "outputs": [],
   "source": [
    "# CTOT ANALYSIS ##\n",
    "benc_pd_p=pd.read_csv('./Results/Figs/FINAL_PAPER/19_09_2023/csv/Ctot_Exp_T_adm_x_y_data_p.csv',index_col=0)\n",
    "us_pd_p=pd.read_csv('./Results/Figs/FINAL_PAPER/19_09_2023/csv/Synthetic_KaNSaaS_Ctot_exp_T_adm_x_y_data_p.csv',index_col=0)\n",
    "\n"
   ]
  },
  {
   "cell_type": "code",
   "execution_count": 11,
   "metadata": {},
   "outputs": [
    {
     "name": "stderr",
     "output_type": "stream",
     "text": [
      "findfont: Font family [\"'DejaVu Sans'\"] not found. Falling back to DejaVu Sans.\n"
     ]
    },
    {
     "data": {
      "image/png": "[encoded data removed]",
      "text/plain": [
       "<Figure size 468x360 with 1 Axes>"
      ]
     },
     "metadata": {
      "needs_background": "light"
     },
     "output_type": "display_data"
    }
   ],
   "source": [
    "\n",
    "dataset='synthetic'\n",
    "Plotter_csv_fill_b(benc_pd_p,us_pd_p,typess='p',exp_type='C_tot',dataset=dataset)\n",
    "#savefigs_all_formats(Filesave,'Synthetic_Ctot_p_benchmark_squared_v2')"
   ]
  },
  {
   "attachments": {},
   "cell_type": "markdown",
   "metadata": {},
   "source": [
    "### Q analysis"
   ]
  },
  {
   "cell_type": "code",
   "execution_count": 18,
   "metadata": {},
   "outputs": [],
   "source": [
    "## COPEX ANAlYSIS ##\n",
    "benc_pd_p=pd.read_csv('./Results/Figs/FINAL_PAPER/19_09_2023/csv/Synthetic_coNEXT_noisy_Q_x_y_data_p.csv',index_col=0)\n",
    "us_pd_p=pd.read_csv('./Results/Figs/FINAL_PAPER/19_09_2023/csv/Synthetic_KaNSaaS_noisy_Q_x_y_data_p.csv',index_col=0)\n"
   ]
  },
  {
   "cell_type": "code",
   "execution_count": 19,
   "metadata": {},
   "outputs": [
    {
     "data": {
      "image/png": "[encoded data removed]",
      "text/plain": [
       "<Figure size 468x360 with 1 Axes>"
      ]
     },
     "metadata": {
      "needs_background": "light"
     },
     "output_type": "display_data"
    }
   ],
   "source": [
    "dataset='synthetic'\n",
    "Plotter_csv_fill_b(benc_pd_p,us_pd_p,typess='p',exp_type='Q',dataset=dataset)\n",
    "# savefigs_all_formats(Filesave,'Synthetic_Q_p_benchmark_squared_v2')"
   ]
  },
  {
   "attachments": {},
   "cell_type": "markdown",
   "metadata": {},
   "source": [
    "### T_adm Analysis"
   ]
  },
  {
   "cell_type": "code",
   "execution_count": 21,
   "metadata": {},
   "outputs": [],
   "source": [
    "benc_pd_p=pd.read_csv('./Results/Figs/FINAL_PAPER/19_09_2023/csv/Synthetic_coNEXT_noisy_T_adm_x_y_data_p.csv',index_col=0)\n",
    "us_pd_p=pd.read_csv('./Results/Figs/FINAL_PAPER/19_09_2023/csv/Synthetic_KaNSaaS_noisy_T_adm_x_y_data_p.csv',index_col=0)\n"
   ]
  },
  {
   "cell_type": "code",
   "execution_count": 22,
   "metadata": {},
   "outputs": [
    {
     "data": {
      "image/png": "[encoded data removed]",
      "text/plain": [
       "<Figure size 468x360 with 1 Axes>"
      ]
     },
     "metadata": {
      "needs_background": "light"
     },
     "output_type": "display_data"
    }
   ],
   "source": [
    "dataset='synthetic'\n",
    "Plotter_csv_fill_b(benc_pd_p,us_pd_p,typess='p',exp_type='Tadm',dataset=dataset)\n",
    "# savefigs_all_formats(Filesave,'Synthetic_T_adm_Plot_P_Benchmark_squared_v2')"
   ]
  }
 ],
 "metadata": {
  "kernelspec": {
   "display_name": "OPTenv",
   "language": "python",
   "name": "python3"
  },
  "language_info": {
   "codemirror_mode": {
    "name": "ipython",
    "version": 3
   },
   "file_extension": ".py",
   "mimetype": "text/x-python",
   "name": "python",
   "nbconvert_exporter": "python",
   "pygments_lexer": "ipython3",
   "version": "3.10.4"
  },
  "orig_nbformat": 4
 },
 "nbformat": 4,
 "nbformat_minor": 2
}
