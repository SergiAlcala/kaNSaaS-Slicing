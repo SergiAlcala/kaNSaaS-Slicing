{
 "cells": [
  {
   "cell_type": "code",
   "execution_count": 22,
   "metadata": {},
   "outputs": [],
   "source": [
    "import os\n",
    "import sys\n",
    "import glob\n",
    "import natsort\n",
    "import numpy as np\n",
    "from natsort import natsorted\n",
    "import pandas as pd\n",
    "\n"
   ]
  },
  {
   "cell_type": "code",
   "execution_count": 23,
   "metadata": {},
   "outputs": [],
   "source": [
    "train_samples = 40320\n",
    "val_samples = 20160\n",
    "test_samples = 10080\n",
    "input_size=480\n",
    "time_admission=120"
   ]
  },
  {
   "cell_type": "code",
   "execution_count": 24,
   "metadata": {},
   "outputs": [],
   "source": [
    "def load_data(Data_Fpath,typee,output_list,services_name_list,printt=False):\n",
    "        for f in natsorted(glob.glob(os.path.join(Data_Fpath,typee))):\n",
    "        \n",
    "            output_list.append(np.load(f))\n",
    "            services_name_list.append(f.split('/')[-1].split('.')[0])\n",
    "            if printt == True:\n",
    "                print(f)\n",
    "            if not output_list:\n",
    "                print ('Load Error, check Filepath Data :'+str(typee))\n",
    "\n",
    "def list_to_df(listt):\n",
    "    df=pd.DataFrame(listt).T\n",
    "    return df\n",
    "\n",
    "def load_test_real(data_fpath):\n",
    "    #data_fpath='/home/jupyter-salcala/wowmom22_tes-rnn/Capacity_Forecasting/75056_Commune/Twitch_traff.npy'\n",
    "        real_data=np.load(data_fpath)\n",
    "    ## Select the time interval\n",
    "        real_data=real_data[:train_samples+val_samples+ test_samples]\n",
    "    ## Select the time interval for prediction Real Traffic\n",
    "        real_data_test=real_data[-test_samples:]\n",
    "        real_data_test=real_data_test[input_size:-(time_admission-1)]\n",
    "        return real_data_test\n",
    "def dimensioning_data(data,test_samples,input_size,time_admission):\n",
    "        preds_test_dimension=np.zeros(test_samples)\n",
    "        preds_test_dimension[preds_test_dimension==0]=np.nan\n",
    "        preds_test_dimension[input_size:-(time_admission-1)]=data\n",
    "        return preds_test_dimension\n",
    "\n",
    "def DataSet_Creation_Normalization(f,Filesave,maxs):\n",
    "    FileName=f.split('/')[-1]\n",
    "    file=np.load(f)    \n",
    "    norm=(file)/(maxs)      \n",
    "    if not os.path.exists(Filesave):\n",
    "            os.makedirs(Filesave)\n",
    "  \n",
    "    np.save(Filesave+FileName,norm)"
   ]
  },
  {
   "cell_type": "code",
   "execution_count": 25,
   "metadata": {},
   "outputs": [],
   "source": [
    "NP=['075']\n",
    "SP=['15']"
   ]
  },
  {
   "cell_type": "code",
   "execution_count": 26,
   "metadata": {},
   "outputs": [],
   "source": [
    "time_admission=120\n",
    "\n",
    "time_decision_NP=[5,15,60,120]\n",
    "\n",
    "Load_type=['AC_RA','RRA']\n",
    "Simulations=[]\n",
    "for i in range(len(time_decision_NP)):\n",
    "    Simulations.append(f'T_dec_{time_decision_NP[i]}_Tadm_{time_admission}')"
   ]
  },
  {
   "cell_type": "markdown",
   "metadata": {},
   "source": [
    "# Cutting the clean data to the same size of predicted data"
   ]
  },
  {
   "attachments": {},
   "cell_type": "markdown",
   "metadata": {},
   "source": [
    "#### Synthetic Data"
   ]
  },
  {
   "cell_type": "code",
   "execution_count": 29,
   "metadata": {},
   "outputs": [],
   "source": [
    "time_admission=[120]\n",
    "\n",
    "\n",
    "time_decision_NP=[5,15,30,60,120]\n",
    "#time_decision_NP=[30]\n",
    "##Second Set\n",
    "#time_decision_NP=[5,15,30,60,360]\n",
    "Load_type=['AC_RA','RRA']\n",
    "Simulations=[]\n",
    "for i in range(len(time_decision_NP)):\n",
    "    Simulations.append(f'T_dec_{time_decision_NP[i]}_Tadm_{time_admission[0]}')\n",
    "\n",
    "time_admission=120"
   ]
  },
  {
   "cell_type": "code",
   "execution_count": null,
   "metadata": {},
   "outputs": [],
   "source": [
    "\"\"\"For tadm variation\"\"\"\n",
    "\n",
    "####DANGER ZONE ########\n",
    "\"\"\"     \n",
    "DO IT ONLY ONCE\n",
    "\"\"\"\n",
    "#### Cut the tarffic data to have the same size than the forecasted one\n",
    "for Load_types in Load_type:\n",
    "    for simulation in Simulations:\n",
    "                Fpath_Dataset=f'./Fcasting_exps_Synthetic_data_noisy/120/{Load_types}/{simulation}/'\n",
    "               \n",
    "                # print(Fpath_Dataset)\n",
    "                for f in glob.glob(Fpath_Dataset+'*agg_60_s.npy'):\n",
    "                        \n",
    "                        # print(f)\n",
    "                        \n",
    "                        len_np=len(np.load(f))\n",
    "                        \n",
    "                        if len_np!=9481:\n",
    "                                \n",
    "                                FileName=f.split('/')[-1]       #\n",
    "                                real_data_test=load_test_real(f)\n",
    "                                if not os.path.exists(Fpath_Dataset):\n",
    "                                        os.makedirs(Fpath_Dataset)      #\n",
    "                                np.save(Fpath_Dataset+FileName,real_data_test)\n",
    "                                print(FileName)"
   ]
  },
  {
   "cell_type": "markdown",
   "metadata": {},
   "source": [
    "# Normalizing the data"
   ]
  },
  {
   "cell_type": "markdown",
   "metadata": {},
   "source": [
    "## Tadm Variation Scenario"
   ]
  },
  {
   "attachments": {},
   "cell_type": "markdown",
   "metadata": {},
   "source": [
    "SYNTH DATA"
   ]
  },
  {
   "cell_type": "code",
   "execution_count": 30,
   "metadata": {},
   "outputs": [
    {
     "data": {
      "text/plain": [
       "['T_dec_5_Tadm_120',\n",
       " 'T_dec_15_Tadm_120',\n",
       " 'T_dec_30_Tadm_120',\n",
       " 'T_dec_60_Tadm_120',\n",
       " 'T_dec_120_Tadm_120']"
      ]
     },
     "execution_count": 30,
     "metadata": {},
     "output_type": "execute_result"
    }
   ],
   "source": [
    "Simulations"
   ]
  },
  {
   "cell_type": "code",
   "execution_count": 31,
   "metadata": {},
   "outputs": [
    {
     "name": "stdout",
     "output_type": "stream",
     "text": [
      "2041421688.6468022\n",
      "2041421688.6468022\n",
      "2041421688.6468022\n",
      "2041421688.6468022\n",
      "2041421688.6468022\n",
      "2041421688.6468022\n",
      "2041421688.6468022\n",
      "2041421688.6468022\n",
      "2041421688.6468022\n",
      "2041421688.6468022\n"
     ]
    }
   ],
   "source": [
    "typee=['*30min.npy','*120min.npy','*agg_60_s.npy']\n",
    "Tslots=9481\n",
    "for Load_types in Load_type:\n",
    "    Fpath=f'./Fcasting_exps_Synthetic_data_noisy/120/{Load_types}'\n",
    "    \n",
    "    #Fpath=f'/home/jupyter-sergi/data/KaNSaaS_IINFOCOM_2023/Data/0_Fcasting_exps_Synthetic_data_All/120/{Load_types}'\n",
    "    \n",
    "    \n",
    "    for i in range(len(Simulations)):\n",
    "                Fpath_Dataset=os.path.join(Fpath,Simulations[i])\n",
    "                \n",
    "                \n",
    "                \n",
    "                #Filesave=f'data/npys/{Fpath_Dataset}/'\n",
    "                Filesave=f'./npys/Fcasting_exps_Synthetic_data_noisy/120/{Load_types}/{Simulations[i]}/'\n",
    "                \n",
    "\n",
    "                #print(Fpath_Dataset)\n",
    "                TRAF=[]\n",
    "                TRAF_names=[]\n",
    "                load_data(Fpath_Dataset,typee[2],output_list=TRAF,services_name_list=TRAF_names,printt=False)\n",
    "                TRAF=list_to_df(TRAF)\n",
    "                TRAF=TRAF[:Tslots]\n",
    "                #maxs=np.percentile(np.array(TRAF[:Tslots].sum(axis=1)),99.8)\n",
    "                maxs=max(TRAF[:Tslots].sum(axis=1))\n",
    "                print(maxs)\n",
    "                for f in natsorted(glob.glob(Fpath_Dataset+'/*.npy')):\n",
    "                    \n",
    "                    DataSet_Creation_Normalization(f,Filesave,maxs)"
   ]
  },
  {
   "cell_type": "code",
   "execution_count": null,
   "metadata": {},
   "outputs": [],
   "source": [
    "2041421688.6468022\n"
   ]
  }
 ],
 "metadata": {
  "interpreter": {
   "hash": "2390d2485edce919c47a673b2ca78b9648ad4090bdf716f2f330807b7bf6a2f0"
  },
  "kernelspec": {
   "display_name": "Python 3.9.12 ('OPTenv': conda)",
   "language": "python",
   "name": "python3"
  },
  "language_info": {
   "codemirror_mode": {
    "name": "ipython",
    "version": 3
   },
   "file_extension": ".py",
   "mimetype": "text/x-python",
   "name": "python",
   "nbconvert_exporter": "python",
   "pygments_lexer": "ipython3",
   "version": "3.10.4"
  },
  "orig_nbformat": 4
 },
 "nbformat": 4,
 "nbformat_minor": 2
}
