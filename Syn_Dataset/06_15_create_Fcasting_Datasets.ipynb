{
 "cells": [
  {
   "cell_type": "code",
   "execution_count": 1,
   "metadata": {},
   "outputs": [],
   "source": [
    "import sys\n",
    "import os\n",
    "import shutil\n",
    "import glob\n"
   ]
  },
  {
   "cell_type": "markdown",
   "metadata": {},
   "source": [
    "# Organisation of Datasets For optimization"
   ]
  },
  {
   "cell_type": "markdown",
   "metadata": {},
   "source": [
    "We have to receive the predictions of the SP and the MNO with the real values separatedly\n",
    "\n",
    "We will receive this files in different folders, and we have to organise them having in the same folder for different T_allocs the results of SP, MNO and real values to proceed with the optimization problem"
   ]
  },
  {
   "cell_type": "code",
   "execution_count": 2,
   "metadata": {},
   "outputs": [],
   "source": [
    "time_admission=[120]\n",
    "\n",
    "time_decision_NP=[5,15,30,60,120]\n",
    "\n",
    "Load_type=['AC_RA','RRA']\n",
    "Simulations=[]\n",
    "for i in range(len(time_decision_NP)):\n",
    "    Simulations.append(f'T_dec_{time_decision_NP[i]}_Tadm_{time_admission[0]}')"
   ]
  },
  {
   "cell_type": "code",
   "execution_count": 3,
   "metadata": {},
   "outputs": [
    {
     "data": {
      "text/plain": [
       "['AC_RA', 'RRA']"
      ]
     },
     "execution_count": 3,
     "metadata": {},
     "output_type": "execute_result"
    }
   ],
   "source": [
    "Load_type"
   ]
  },
  {
   "attachments": {},
   "cell_type": "markdown",
   "metadata": {},
   "source": [
    "FOR SYNTH DATA"
   ]
  },
  {
   "cell_type": "code",
   "execution_count": 4,
   "metadata": {},
   "outputs": [],
   "source": [
    "alpha_np='075'\n",
    "\n",
    "alpha_sp='15'\n",
    "\n",
    "\n",
    "Cleaned_Data_path='./Synthetic_data_noisy/' ### Original Data\n",
    "\n",
    "\n",
    "#Dataset_name='0_Fcasting_exps_Synthetic_Data_ACRA'\n",
    "\n",
    "for Load_types in Load_type:\n",
    "    \n",
    "    \n",
    "    RRA_NP_Data_path=f'./Synthetic_Results_PREDS_noisy/120/{Load_types}' ## MNO predictions folder\n",
    "    RRA_NP_Data_path_SP='./Synthetic_Results_PREDS_noisy/120/AC_RA/Alpha_1.5/T_dec_120_Tadm_120/Simulation_1' ## SP predictions folder\n",
    "\n",
    "\n",
    "    Dataset_name=f'./Fcasting_exps_Synthetic_data_noisy/{time_admission[0]}/{Load_types}' ### Dataset to be created for Fcasting\n",
    "    \n",
    "    for i in range(len(Simulations)):\n",
    "\n",
    "\n",
    "        savepath=os.path.join(Dataset_name,Simulations[i])\n",
    "        \n",
    "        if not os.path.exists(savepath):\n",
    "\n",
    "            os.makedirs(savepath)\n",
    "        for f in glob.glob(Cleaned_Data_path+'*.npy'):\n",
    "            # print(f)\n",
    "            service_name=f.split('/')[-1]\n",
    "            shutil.copy(f,savepath+'/'+service_name)\n",
    "        if alpha_np=='075':\n",
    "            RRA_075_Data_Path=os.path.join(RRA_NP_Data_path,'Alpha_0.75',Simulations[i],'Simulation_1')\n",
    "            for f in glob.glob(RRA_075_Data_Path+'/*.npy'):\n",
    "                # print(f)\n",
    "                service_name=f.split('/')[-1]\n",
    "                shutil.copy(f,savepath+'/'+service_name)\n",
    "                        \n",
    "        if RRA_NP_Data_path_SP:\n",
    "            for f in glob.glob(RRA_NP_Data_path_SP+'/*.npy'):\n",
    "                service_name=f.split('/')[-1]\n",
    "                \n",
    "                \n",
    "                shutil.copy(f,savepath+'/'+service_name)\n",
    "        "
   ]
  },
  {
   "cell_type": "code",
   "execution_count": null,
   "metadata": {},
   "outputs": [],
   "source": []
  }
 ],
 "metadata": {
  "interpreter": {
   "hash": "2390d2485edce919c47a673b2ca78b9648ad4090bdf716f2f330807b7bf6a2f0"
  },
  "kernelspec": {
   "display_name": "Python 3.9.12 ('OPTenv': conda)",
   "language": "python",
   "name": "python3"
  },
  "language_info": {
   "codemirror_mode": {
    "name": "ipython",
    "version": 3
   },
   "file_extension": ".py",
   "mimetype": "text/x-python",
   "name": "python",
   "nbconvert_exporter": "python",
   "pygments_lexer": "ipython3",
   "version": "3.10.4"
  },
  "orig_nbformat": 4
 },
 "nbformat": 4,
 "nbformat_minor": 2
}
