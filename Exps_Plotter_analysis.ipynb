{
 "cells": [
  {
   "cell_type": "code",
   "execution_count": 1,
   "metadata": {},
   "outputs": [],
   "source": [
    "import sys\n",
    "from Global_Functions import Functions as F\n",
    "from Global_Functions import LDV as ldv\n",
    "from Global_Functions import Plotter as Plotter\n",
    "from Global_Functions import *\n"
   ]
  },
  {
   "cell_type": "code",
   "execution_count": 2,
   "metadata": {},
   "outputs": [],
   "source": [
    "def create_plots_metrics(metric_list,Q,ylabel='',label='',xlabel='',title='',Daylight=False,Distance_Optimal=False,\n",
    "Imrovenent_over_std_app=False,metric2nd_list=None,legend=False,ax=None,idx=None,color=None,marker=None,transparency=1):\n",
    "        try:\n",
    "            df=Plotter.create_df_plotly(metric_list,Q)\n",
    "        except:\n",
    "            df=Plotter.create_df_plotly(metric_list.T,Q)\n",
    "\n",
    "        x=Q\n",
    "        means=np.array(df.mean())\n",
    "        upperbound=df.where(df>=means)\n",
    "        lowerbound=df.where(df<means)\n",
    "        upper_std=upperbound.std()\n",
    "        lower_std=lowerbound.std()\n",
    "        if Daylight:\n",
    "            df_day=Plotter.create_df_plotly(metric_list,Q,daylight=Daylight)\n",
    "        plt.title(title)\n",
    "        if Distance_Optimal:\n",
    "            plt.title(f'{title} - Distance Optimal')\n",
    "            if metric2nd_list is not None:\n",
    "                try:\n",
    "                    df2nd=Plotter.create_df_plotly(metric2nd_list,Q)\n",
    "                except:\n",
    "                    df2nd=Plotter.create_df_plotly(metric2nd_list.T,Q)\n",
    "                if Daylight:\n",
    "                    df2nd_day=Plotter.create_df_plotly(metric2nd_list,Q,daylight=Daylight)\n",
    "                    plt.plot((1-df_day.mean()-(1-df2nd_day.mean()))/(1-df_day.mean()),label='Reduction of distance to optimal Daylight')\n",
    "    \n",
    "                if ax:\n",
    "                    ax[idx].plot((1-df.mean()-(1-df2nd.mean()))/(1-df.mean()),label='Reduction of distance to optimal')\n",
    "                else:\n",
    "                    plt.plot((1-df.mean()-(1-df2nd.mean()))/(1-df.mean()),label='Reduction of distance to optimal Ratio')\n",
    "               \n",
    "            else:\n",
    "                plt.plot(1-df.mean(),label=f'{xlabel}')\n",
    "                if Daylight:\n",
    "                    plt.plot(1-df_day.mean(),label=f'Daylight {label}')\n",
    "        elif Imrovenent_over_std_app:\n",
    "            if metric2nd_list is not None:\n",
    "                try:\n",
    "                    df2nd=Plotter.create_df_plotly(metric2nd_list,Q)\n",
    "                except:\n",
    "                    df2nd=Plotter.create_df_plotly(metric2nd_list.T,Q)\n",
    "                \n",
    "                if Daylight:\n",
    "                    df2nd_day=Plotter.create_df_plotly(metric2nd_list,Q,daylight=Daylight)\n",
    "                    plt.plot((df2nd_day.mean()-df_day.mean())/df_day.mean(),label='Improvement over standard approach Daylight')\n",
    "                \n",
    "                else:\n",
    "                    if np.any(ax!=None):\n",
    "                        Improvement=(df2nd.mean()-df.mean())/df.mean()\n",
    "                        ax[idx].plot(Improvement,label=label,marker=marker,color=color,alpha=transparency)\n",
    "                    else:\n",
    "\n",
    "                        plt.plot((df2nd.mean()-df.mean())/df.mean(),label='Improvement over standard approach')\n",
    "    \n",
    "            else:\n",
    "                plt.plot(1-df.mean(),label=f' {label}')\n",
    "                if Daylight:\n",
    "                    plt.plot(1-df_day.mean(),label=f'Daylight {label}')\n",
    "        else:\n",
    "            if np.any(ax!=None):\n",
    "                ax[idx].plot(df.mean(),label=f'{label}',color=color,marker=marker,alpha=transparency)\n",
    "                ax[idx].fill_between(x, means- lower_std, means + upper_std, color=color, alpha=0.2)\n",
    "            else:\n",
    "                plt.plot(df.mean(),label=f' {label}',marker='o')\n",
    "            if Daylight:\n",
    "                plt.plot(df_day.mean(),label=f'Daylight {label}',marker='o')\n",
    "        if ylabel:\n",
    "            if np.any(ax!=None):\n",
    "                ax[idx].set_ylabel(ylabel)\n",
    "            else:\n",
    "\n",
    "                plt.ylabel(ylabel)\n",
    "        if xlabel:\n",
    "            if np.any(ax!=None):\n",
    "                ax[idx].set_xlabel(xlabel)\n",
    "            else:\n",
    "                plt.xlabel(xlabel)\n",
    "  \n",
    "        if legend:\n",
    "            if np.any(ax!=None):\n",
    "                ax[idx].legend()\n",
    "            else:\n",
    "                plt.legend()\n",
    "\n",
    "\n",
    "        \n",
    "           "
   ]
  },
  {
   "cell_type": "code",
   "execution_count": 3,
   "metadata": {},
   "outputs": [],
   "source": [
    "def save_x_y_data(lines1,lines2,lines3,exp,typess):\n",
    "    x1=lines1.get_xdata()\n",
    "    y1=lines1.get_ydata()\n",
    "    y2=lines2.get_ydata()\n",
    "    y3=lines3.get_ydata()\n",
    "    df=pd.DataFrame({'SP':y1,'OB':y2, 'improvement over standard approach': y3},index=x1)\n",
    "    Savepath=f'{Filesave}/csv'\n",
    "    \n",
    "    if not os.path.exists(Savepath):\n",
    "        os.makedirs(Savepath)\n",
    "    df.to_csv(f'{Savepath}/{exp}_x_y_data_{typess}.csv')"
   ]
  },
  {
   "cell_type": "code",
   "execution_count": 4,
   "metadata": {},
   "outputs": [],
   "source": [
    "def savefigs_all_formats(Filesave_path,fig_name):\n",
    "    png_fpath=f'{Filesave_path}/png/'\n",
    "    if not os.path.exists(png_fpath):\n",
    "        os.makedirs(png_fpath)\n",
    "    pdf_fpath=f'{Filesave_path}/pdf/'\n",
    "    if not os.path.exists(pdf_fpath):\n",
    "        os.makedirs(pdf_fpath)\n",
    "    eps_fpath=f'{Filesave_path}/eps/'\n",
    "    if not os.path.exists(eps_fpath):\n",
    "        os.makedirs(eps_fpath)\n",
    "    plt.savefig(f'{png_fpath}/{fig_name}.png',dpi=300)\n",
    "    plt.savefig(f'{pdf_fpath}/{fig_name}.pdf')\n",
    "    plt.savefig(f'{eps_fpath}/{fig_name}.eps')"
   ]
  },
  {
   "cell_type": "code",
   "execution_count": 5,
   "metadata": {},
   "outputs": [],
   "source": [
    "def Q_Plotter(Q,SP_list_NORM,OB_list_NORM,SP_list_Not_Norm,OB_list_Not_Norm,title='',ylabel='',vline=True,loc=None,typess='p',y_Range=None,marker='o',Experiment=None):\n",
    "    fig,ax= plt.subplots(2,1,figsize=(13,10))\n",
    "    fig.suptitle(title)\n",
    "    OB_label=r'$\\bar{D}_{p}$'.replace('p',typess)\n",
    "    SP_label=r'$\\bar{D}_{p}^{(P)}$'.replace('p',typess)\n",
    "\n",
    "    create_plots_metrics(SP_list_NORM,Q,ax=ax,idx=0,label=SP_label,color='blue',marker=marker)\n",
    "    create_plots_metrics(OB_list_NORM,Q,ax=ax,idx=0,label=OB_label,color='orange',marker=marker)\n",
    "    ax[0].set_xticks(np.linspace(0,1,11))\n",
    "    ax[0].grid(axis='y')\n",
    "    ax[0].set_ylabel(ylabel)\n",
    "    ax[1].set_xlabel(r'$M_{s} / c_{OPEX}$')\n",
    "    ax[0].tick_params('x',labelrotation=-60)\n",
    "    ax[0].set_ylim([0,1.05])\n",
    "    ax[0].legend(fontsize=20,loc=loc)\n",
    "\n",
    "    lines1=ax[0].lines[0]\n",
    "    lines2=ax[0].lines[1]\n",
    "\n",
    "    labels=r'$\\bar{G}_{p}$'.replace('p',typess)\n",
    "    create_plots_metrics(SP_list_Not_Norm,Q,Imrovenent_over_std_app=True,metric2nd_list=OB_list_Not_Norm,ax=ax,idx=1,marker=marker,label=labels)\n",
    "\n",
    "    lines=ax[1].lines[0]\n",
    "    lines3=lines\n",
    "    ymax=lines.get_ydata().max()+1\n",
    "    ymin=lines.get_ydata().min()-0.1\n",
    "    if y_Range:\n",
    "        ymax=lines.get_ydata().max()+0.1\n",
    "        ymin=ymax-y_Range\n",
    "\n",
    "    if ymin<0:\n",
    "        ymin=0\n",
    "        ymax=y_Range\n",
    "    ax[1].set_xticks(np.linspace(0,1,11))\n",
    "    ax[1].grid(axis='y')\n",
    "    ax[1].tick_params('x',labelrotation=-60)\n",
    "    #ax[1].set_ylim([ymin,ymax])\n",
    "    #ax[1].set_yscale('log')\n",
    "    #ax[1].set_ylabel(r'$\\bar{G}_{p}$'.replace('p',typess))\n",
    "    #  \n",
    "    ax[1].legend(fontsize=20)\n",
    "    fig.tight_layout()\n",
    "\n",
    "    save_x_y_data(lines1,lines2,lines3,Experiment+'_Q',typess)\n",
    "  "
   ]
  },
  {
   "cell_type": "code",
   "execution_count": 6,
   "metadata": {},
   "outputs": [],
   "source": [
    "time_decision_NP=[5,15,30,60,120]\n",
    "time_admission=[120]\n",
    "Simulations=[]\n",
    "duration_list=[]\n",
    "for i in range(len(time_decision_NP)):\n",
    "    Simulations.append(f'T_dec_{time_decision_NP[i]}_Tadm_{time_admission[0]}')\n",
    "    duration_list.append(time_decision_NP[i])"
   ]
  },
  {
   "cell_type": "markdown",
   "metadata": {},
   "source": [
    "## Tadm Variation Benchmark"
   ]
  },
  {
   "attachments": {},
   "cell_type": "markdown",
   "metadata": {},
   "source": [
    "SYNTHETIC"
   ]
  },
  {
   "cell_type": "code",
   "execution_count": 7,
   "metadata": {},
   "outputs": [
    {
     "name": "stderr",
     "output_type": "stream",
     "text": [
      "  0%|          | 0/5 [00:00<?, ?it/s]/home/jupyter-salcala/kaNSaaS-Slicing/Global_Functions.py:983: RuntimeWarning: invalid value encountered in scalar divide\n",
      "  Ratio_known_Optimal=mean_known/mean_Optimal\n",
      "/home/jupyter-salcala/kaNSaaS-Slicing/Global_Functions.py:983: RuntimeWarning: divide by zero encountered in scalar divide\n",
      "  Ratio_known_Optimal=mean_known/mean_Optimal\n",
      "100%|██████████| 5/5 [00:18<00:00,  3.69s/it]\n"
     ]
    }
   ],
   "source": [
    "All_results_list_pred=[]\n",
    "SLA=F.plot_5x\n",
    "Ctot_ratio=1\n",
    "Q_list=SimulationsSLA=F.plot_5x\n",
    "\n",
    "Tslots=9480\n",
    "ratio_cost_rev=0.9\n",
    "q=ratio_cost_rev\n",
    "time_decision_NP=[5,15,30,60,120]\n",
    "pred_traf=False\n",
    "#Fpath_Dataset='./data/npys/0_Forecasting_OPT/'\n",
    "for i in tqdm(range(len(Simulations))):\n",
    "    \n",
    "    Fpath_Dataset=f'./Syn_Dataset/npys/Fcasting_exps_Synthetic_data_noisy/120/RRA/{Simulations[i]}/'\n",
    " \n",
    "\n",
    "    Fpath_Variables=f'./Syn_Dataset/OPT_npys/Fcasting_exps_Synthetic_data_noisy/120/RRA_OR/Ratio_0.9/{Simulations[i]}/'\n",
    "  \n",
    "\n",
    "    all_results=ldv.load_dataset_variables(Fpath_Dataset,Fpath_Variables,Tslots,SLA,Tdec_OB=duration_list[i],output='All_results',Predictions=pred_traf,synthetic=True,q=q,Bss_type=False)\n",
    "    All_results_list_pred.append(all_results)\n",
    "    "
   ]
  },
  {
   "cell_type": "code",
   "execution_count": 24,
   "metadata": {},
   "outputs": [
    {
     "name": "stderr",
     "output_type": "stream",
     "text": [
      "100%|██████████| 5/5 [00:29<00:00,  5.82s/it]\n"
     ]
    }
   ],
   "source": [
    "All_results_list_pred=[]\n",
    "SLA=F.plot_5x\n",
    "Ctot_ratio=1\n",
    "Q_list=SimulationsSLA=F.plot_5x\n",
    "\n",
    "Tslots=9480\n",
    "ratio_cost_rev=0.9\n",
    "q=ratio_cost_rev\n",
    "time_decision_NP=[5,15,30,60,120]\n",
    "pred_traf=False\n",
    "#Fpath_Dataset='./data/npys/0_Forecasting_OPT/'\n",
    "for i in tqdm(range(len(Simulations))):\n",
    "    \n",
    "    Fpath_Dataset=f'./Syn_Dataset/Synthetic_Benchmark_noisy/{Simulations[i]}/'\n",
    "    #print(Fpath_Dataset)\n",
    "\n",
    "    Fpath_Variables=f'./Syn_Dataset/OPT_npys/Fcasting_exps_Synthetic_data_noisy/120/RRA_OR/Ratio_0.9/{Simulations[i]}/'    #print(time_decision_NP_s)\n",
    "    #print(Fpath_Variables)\n",
    "\n",
    "    all_results=ldv.load_dataset_variables_benchmark(Fpath_Dataset,Fpath_Variables,Tslots,SLA,Tdec_OB=duration_list[i],output='All_results',Predictions=pred_traf,synthetic=True,q=q,Bss_type=False)\n",
    "    All_results_list_pred.append(all_results)\n",
    "    "
   ]
  },
  {
   "cell_type": "code",
   "execution_count": 8,
   "metadata": {},
   "outputs": [
    {
     "name": "stderr",
     "output_type": "stream",
     "text": [
      "  0%|          | 0/5 [00:00<?, ?it/s]"
     ]
    },
    {
     "name": "stderr",
     "output_type": "stream",
     "text": [
      "100%|██████████| 5/5 [00:00<00:00, 11.13it/s]\n"
     ]
    }
   ],
   "source": [
    "Net_Ben_OPT_List_SP_q_lists=[]\n",
    "Net_Ben_OPT_List_OB_q_lists=[]\n",
    "Net_Ben_OPT_List_TRAF_q_lists=[]\n",
    "total_service_SP_pd_list=[]\n",
    "total_service_OB_pd_list=[]\n",
    "total_service_TRAF_pd_list=[]\n",
    "NET_GAIN_list_SP_q_lists=[]\n",
    "NET_GAIN_list_OB_q_lists=[]\n",
    "gain_list_SP_q_lists=[]\n",
    "gain_list_OB_q_lists=[]\n",
    "allocated_Traffic_list_SP_q_lists=[]\n",
    "allocated_Traffic_list_OB_q_lists=[]\n",
    "SP_q_lists=[]\n",
    "traffic_list_SP_q_lists=[]\n",
    "traffic_list_OB_q_lists=[]\n",
    "EuroTraff_list_SP_q_lists=[]\n",
    "EuroTraff_list_OB_q_lists=[]\n",
    "Alpha_SP_q_lists=[]\n",
    "X_SP_q_lists=[]\n",
    "Alpha_OB_q_lists=[]\n",
    "X_OB_q_lists=[]\n",
    "Alpha_TRAF_q_lists=[]\n",
    "X_TRAF_q_lists=[]\n",
    "Beta_SP_q_lists=[]\n",
    "Beta_OB_q_lists=[]\n",
    "Beta_TRAF_q_lists=[]\n",
    "real_traffic_SP_q_lists=[]\n",
    "real_traffic_OB_q_lists=[]\n",
    "real_traffic_TRAF_q_lists=[]\n",
    "\n",
    "Euro_list_SP_q_lists=[]\n",
    "Euro_list_OB_q_lists=[]\n",
    "Euro_list_TRAF_q_lists=[]\n",
    "\n",
    "traffic_SP_q_lists_means_qlist=[]\n",
    "traffic_OB_q_lists_means_qlist=[]\n",
    "traffic_TRAF_q_lists_means_qlist=[]\n",
    "\n",
    "NET_GAIN_SP_qlists_means=[]\n",
    "NET_GAIN_OB_qlists_means=[]\n",
    "NET_GAIN_TRAF_qlists_means=[]\n",
    "\n",
    "\n",
    "traffic_SP_q_lists_means=[]\n",
    "traffic_OB_q_lists_means=[]\n",
    "traffic_TRAF_q_lists_means=[]\n",
    "\n",
    "EuroTraff_list_SP_q_lists_means=[]\n",
    "EuroTraff_list_OB_q_lists_means=[]\n",
    "\n",
    "\n",
    "SLA_cost_SP_q_lists=[]\n",
    "SLA_cost_OB_q_lists=[]\n",
    "SLA_cost_TRAF_q_lists=[]\n",
    "Copex_Cost_SP_q_lists=[]\n",
    "Copex_Cost_OB_q_lists=[]\n",
    "Copex_Cost_TRAF_q_lists=[]\n",
    "\n",
    "SLA_cost_SP_metric_q_lists=[]\n",
    "SLA_cost_OB_metric_q_lists=[]\n",
    "\n",
    "SLA_cost_SP_q_lists_means=[]\n",
    "SLA_cost_OB_q_lists_means=[]\n",
    "\n",
    "\n",
    "\n",
    "Copex_Cost_SP_metric_q_lists=[]\n",
    "Copex_Cost_OB_metric_q_lists=[]\n",
    "\n",
    "Copex_Cost_SP_q_lists_means=[]\n",
    "Copex_Cost_OB_q_lists_means=[]\n",
    "\n",
    "for i in tqdm(range(len(All_results_list_pred))):\n",
    "    all_results=All_results_list_pred[i]\n",
    "    Net_Ben_OPT_List_SP,Net_Ben_OPT_List_OB,Net_Ben_OPT_List_TRAF=pd.DataFrame(all_results['Net_Ben_OPT_List_SP']),pd.DataFrame(all_results['Net_Ben_OPT_List_OB']),pd.DataFrame(all_results['Net_Ben_OPT_List_TRAF'])\n",
    "    Net_Ben_OPT_List_SP_q_lists.append(Net_Ben_OPT_List_SP.T.sum())\n",
    "    Net_Ben_OPT_List_OB_q_lists.append(Net_Ben_OPT_List_OB.T.sum())\n",
    "    Net_Ben_OPT_List_TRAF_q_lists.append(Net_Ben_OPT_List_TRAF.T.sum())\n",
    "\n",
    "    total_service_SP_pd,total_service_OB_pd,total_service_TRAF_pd=pd.DataFrame(all_results['total_service_SP_pd']),pd.DataFrame(all_results['total_service_OB_pd']),pd.DataFrame(all_results['total_service_TRAF_pd'])\n",
    "    total_service_SP_pd_list.append(total_service_SP_pd.total_slices)\n",
    "    total_service_OB_pd_list.append(total_service_OB_pd.total_slices)\n",
    "    total_service_TRAF_pd_list.append(total_service_TRAF_pd.total_slices)\n",
    "    NET_GAIN_list_SP,NET_GAIN_SP=all_results['NET_GAIN_list_SP'],all_results['NET_GAIN_SP']\n",
    "    NET_GAIN_list_OB,NET_GAIN_OB=all_results['NET_GAIN_list_OB'],all_results['NET_GAIN_OB']\n",
    "    NET_GAIN_list_SP_q_lists.append(NET_GAIN_list_SP)\n",
    "    NET_GAIN_list_OB_q_lists.append(NET_GAIN_list_OB)\n",
    "    gain_list_SP,gain_SP=(all_results['gain_list_SP']),all_results['gain_SP']\n",
    "    gain_list_OB,gain_OB=(all_results['gain_list_OB']),all_results['gain_OB']\n",
    "    gain_list_SP_q_lists.append(gain_list_SP)\n",
    "    gain_list_OB_q_lists.append(gain_list_OB)\n",
    "    allocated_Traffic_list_SP,allocated_Traffic_SP=(all_results['allocated_Traffic_list_SP']),all_results['allocated_Traffic_SP']\n",
    "    allocated_Traffic_list_OB,allocated_Traffic_OB = (all_results['allocated_Traffic_list_OB']),all_results['allocated_Traffic_OB']\n",
    "    allocated_Traffic_list_SP_q_lists.append(allocated_Traffic_list_SP)\n",
    "    allocated_Traffic_list_OB_q_lists.append(allocated_Traffic_list_OB)\n",
    "\n",
    "\n",
    "    real_traffic_SP_pd,real_traffic_OB_pd,real_traffic_TRAF_pd=pd.DataFrame(all_results['real_traffic_SP_pd']),pd.DataFrame(all_results['real_traffic_OB_pd']),pd.DataFrame(all_results['real_traffic_TRAF_pd'])\n",
    "    real_traffic_SP_q_lists.append(real_traffic_SP_pd.T.sum())\n",
    "    real_traffic_OB_q_lists.append(real_traffic_OB_pd.T.sum())\n",
    "    real_traffic_TRAF_q_lists.append(real_traffic_TRAF_pd.T.sum())\n",
    "\n",
    "    traffic_list_SP,traffic_SP=(all_results['traffic_list_SP']),all_results['traffic_SP']\n",
    "    traffic_list_OB,traffic_OB=(all_results['traffic_list_OB']),all_results['traffic_OB']\n",
    "    EuroTraff_list_SP,EuroTraff_SP=(all_results['EuroTraff_list_SP']),all_results['EuroTraff_SP']\n",
    "    EuroTraff_list_OB,EuroTraff_OB=(all_results['EuroTraff_list_OB']),all_results['EuroTraff_OB']\n",
    "    traffic_list_SP_q_lists.append(traffic_list_SP)\n",
    "    traffic_list_OB_q_lists.append(traffic_list_OB)\n",
    "    EuroTraff_list_SP_q_lists.append(EuroTraff_list_SP)\n",
    "    EuroTraff_list_OB_q_lists.append(EuroTraff_list_OB)\n",
    "\n",
    "   \n",
    "    NET_GAIN_SP_qlists_means.append(NET_GAIN_SP)\n",
    "    NET_GAIN_OB_qlists_means.append(NET_GAIN_OB)\n",
    "\n",
    "\n",
    "\n",
    "    traffic_SP_q_lists_means.append(traffic_SP)\n",
    "    traffic_OB_q_lists_means.append(traffic_OB)\n",
    " \n",
    "\n",
    "    EuroTraff_list_SP_q_lists_means.append(EuroTraff_SP)\n",
    "    EuroTraff_list_OB_q_lists_means.append(EuroTraff_OB)\n",
    "\n",
    "  \n",
    "\n",
    "    Euro_list_SP,Euro_SP=(all_results['Euro_list_SP']),all_results['Euro_SP']\n",
    "    Euro_list_OB,Euro_OB=(all_results['Euro_list_OB']),all_results['Euro_OB']\n",
    "    Euro_list_TRAF,Euro_TRAF=(all_results['Euro_list_TRAF']),all_results['Euro_TRAF']\n",
    "    Euro_list_SP_q_lists.append(Euro_list_SP)\n",
    "    Euro_list_OB_q_lists.append(Euro_list_OB)\n",
    "    Euro_list_TRAF_q_lists.append(Euro_list_TRAF)\n",
    "\n",
    "\n",
    "    SLA_cost_SP_q_lists.append(all_results['SLA_Cost_SP'])\n",
    "    SLA_cost_OB_q_lists.append(all_results['SLA_Cost_OB'])\n",
    "    SLA_cost_TRAF_q_lists.append(all_results['SLA_Cost_TRAF'])\n",
    "    Copex_Cost_SP_q_lists.append(all_results['Copex_Cost_SP'])\n",
    "    Copex_Cost_OB_q_lists.append(all_results['Copex_Cost_OB'])\n",
    "    Copex_Cost_TRAF_q_lists.append(all_results['Copex_Cost_TRAF'])\n",
    "    SLA_cost_SP_metric_q_lists.append(all_results['SLA_Cost_Metric_list_SP'])\n",
    "    SLA_cost_OB_metric_q_lists.append(all_results['SLA_Cost_Metric_list_OB'])\n",
    "    SLA_cost_SP_q_lists_means.append(all_results['SLA_Cost_Metric_SP'])\n",
    "    SLA_cost_OB_q_lists_means.append(all_results['SLA_Cost_Metric_OB'])\n",
    "  \n",
    "\n",
    "    Copex_Cost_SP_metric_q_lists.append(all_results['Copex_cost_Metric_list_SP'])\n",
    "    Copex_Cost_OB_metric_q_lists.append(all_results['Copex_cost_Metric_list_OB'])\n",
    "    Copex_Cost_SP_q_lists_means.append(all_results['Copex_cost_Metric_SP'])\n",
    "    Copex_Cost_OB_q_lists_means.append(all_results['Copex_cost_Metric_OB'])\n",
    "\n",
    "    Beta_SP_q_lists.append(all_results['Beta_SP'])\n",
    "    Beta_OB_q_lists.append(all_results['Beta_OB'])\n",
    "    Beta_TRAF_q_lists.append(all_results['Beta_TRAF'])\n",
    "\n"
   ]
  },
  {
   "cell_type": "markdown",
   "metadata": {},
   "source": [
    "# Benchmark"
   ]
  },
  {
   "cell_type": "markdown",
   "metadata": {},
   "source": [
    "### Q analysis"
   ]
  },
  {
   "cell_type": "code",
   "execution_count": 10,
   "metadata": {},
   "outputs": [
    {
     "name": "stderr",
     "output_type": "stream",
     "text": [
      "100%|██████████| 21/21 [01:33<00:00,  4.46s/it]\n"
     ]
    }
   ],
   "source": [
    "#### Synthetic Data Benchmark ####\n",
    "Q_list=[0,0.05,0.1,0.15,0.2,0.25,0.3,0.35,0.4,0.45,0.5,0.55,0.6,0.65,0.7,0.75,0.8,0.85,0.9,0.95,0.99]\n",
    "\n",
    "All_results_list_pred=[]\n",
    "    \n",
    "\n",
    "Fpath_Dataset='./Syn_Dataset/Synthetic_Benchmark_noisy/T_dec_30_Tadm_120/'\n",
    "#Fpath_Variables='data/OPT_npys/Tadm_variation_preds_Dataset/120/RRA/Ratio_0.9/T_dec_30_Tadm_120/'\n",
    "Tdec_OB=30\n",
    "\n",
    "Tslots=9480\n",
    "SLA=F.plot_5x\n",
    "Ctot_ratio=1\n",
    "pred_traf=False\n",
    "synthetic=True\n",
    "for q in tqdm(Q_list):\n",
    "    Fpath_Variables=f'./Syn_Dataset/OPT_npys/Fcasting_exps_Synthetic_data_noisy/120/RRA_OR/Ratio_{q}/T_dec_30_Tadm_120/'\n",
    "    \n",
    "    \n",
    "    \n",
    "    all_results=ldv.load_dataset_variables_benchmark(Fpath_Dataset,Fpath_Variables,Tslots,SLA,Tdec_OB=Tdec_OB,output='All_results',q=q,synthetic=synthetic)\n",
    "    All_results_list_pred.append(all_results)"
   ]
  },
  {
   "cell_type": "code",
   "execution_count": 15,
   "metadata": {},
   "outputs": [
    {
     "name": "stderr",
     "output_type": "stream",
     "text": [
      "  0%|          | 0/21 [00:00<?, ?it/s]/home/jupyter-salcala/kaNSaaS-Slicing/Global_Functions.py:973: RuntimeWarning: divide by zero encountered in scalar divide\n",
      "  Ratio_known_Optimal=mean_known/mean_Optimal\n",
      "/home/jupyter-salcala/kaNSaaS-Slicing/Global_Functions.py:973: RuntimeWarning: invalid value encountered in scalar divide\n",
      "  Ratio_known_Optimal=mean_known/mean_Optimal\n",
      "100%|██████████| 21/21 [01:17<00:00,  3.68s/it]\n"
     ]
    }
   ],
   "source": [
    "### Synthetic Traffic ###\n",
    "\n",
    "Q_list=[0,0.05,0.1,0.15,0.2,0.25,0.3,0.35,0.4,0.45,0.5,0.55,0.6,0.65,0.7,0.75,0.8,0.85,0.9,0.95,0.99]\n",
    "All_results_list_pred=[]\n",
    "Fpath_Dataset='./Syn_Dataset/npys/Fcasting_exps_Synthetic_data_noisy/120/RRA/T_dec_30_Tadm_120/'\n",
    "Tslots=9481\n",
    "SLA=F.plot_5x\n",
    "Ctot_ratio=1\n",
    "pred_traf=False\n",
    "synt_traf=True\n",
    "for q in tqdm(Q_list):\n",
    "    Fpath_Variables=f'./Syn_Dataset/OPT_npys/Fcasting_exps_Synthetic_data_noisy/120/RRA_OR/Ratio_{q}/T_dec_30_Tadm_120/'\n",
    "    all_results=ldv.load_dataset_variables(Fpath_Dataset,Fpath_Variables,Tslots,SLA,output='All_results',Predictions=pred_traf,synthetic=synt_traf,q=q)\n",
    "    All_results_list_pred.append(all_results)"
   ]
  },
  {
   "cell_type": "code",
   "execution_count": 11,
   "metadata": {},
   "outputs": [
    {
     "name": "stderr",
     "output_type": "stream",
     "text": [
      "  0%|          | 0/21 [00:00<?, ?it/s]"
     ]
    },
    {
     "name": "stderr",
     "output_type": "stream",
     "text": [
      "100%|██████████| 21/21 [00:01<00:00, 11.00it/s]\n"
     ]
    }
   ],
   "source": [
    "SP_q_lists=[]\n",
    "OB_q_lists=[]\n",
    "TRAFF_q_lists=[]\n",
    "Net_Ben_OPT_List_SP_q_lists=[]\n",
    "Net_Ben_OPT_List_OB_q_lists=[]\n",
    "Net_Ben_OPT_List_TRAF_q_lists=[]\n",
    "total_service_SP_pd_list=[]\n",
    "total_service_OB_pd_list=[]\n",
    "total_service_TRAF_pd_list=[]\n",
    "NET_GAIN_list_SP_q_lists=[]\n",
    "NET_GAIN_list_OB_q_lists=[]\n",
    "gain_list_SP_q_lists=[]\n",
    "gain_list_OB_q_lists=[]\n",
    "allocated_Traffic_list_SP_q_lists=[]\n",
    "allocated_Traffic_list_OB_q_lists=[]\n",
    "SP_q_lists=[]\n",
    "traffic_list_SP_q_lists=[]\n",
    "traffic_list_OB_q_lists=[]\n",
    "EuroTraff_list_SP_q_lists=[]\n",
    "EuroTraff_list_OB_q_lists=[]\n",
    "Alpha_SP_q_lists=[]\n",
    "X_SP_q_lists=[]\n",
    "Alpha_OB_q_lists=[]\n",
    "X_OB_q_lists=[]\n",
    "Alpha_TRAF_q_lists=[]\n",
    "X_TRAF_q_lists=[]\n",
    "Beta_SP_q_lists=[]\n",
    "Beta_OB_q_lists=[]\n",
    "Beta_TRAF_q_lists=[]\n",
    "real_traffic_SP_q_lists=[]\n",
    "real_traffic_OB_q_lists=[]\n",
    "real_traffic_TRAF_q_lists=[]\n",
    "\n",
    "Euro_list_SP_q_lists=[]\n",
    "Euro_list_OB_q_lists=[]\n",
    "Euro_list_TRAF_q_lists=[]\n",
    "\n",
    "traffic_SP_q_lists_means_qlist=[]\n",
    "traffic_OB_q_lists_means_qlist=[]\n",
    "traffic_TRAF_q_lists_means_qlist=[]\n",
    "\n",
    "NET_GAIN_SP_qlists_means=[]\n",
    "NET_GAIN_OB_qlists_means=[]\n",
    "NET_GAIN_TRAF_qlists_means=[]\n",
    "\n",
    "allocated_Traffic_list_SP_q_lists_means=[]\n",
    "allocated_Traffic_list_OB_q_lists_means=[]\n",
    "\n",
    "\n",
    "traffic_SP_q_lists_means=[]\n",
    "traffic_OB_q_lists_means=[]\n",
    "traffic_TRAF_q_lists_means=[]\n",
    "\n",
    "EuroTraff_list_SP_q_lists_means=[]\n",
    "EuroTraff_list_OB_q_lists_means=[]\n",
    "\n",
    "SLA_cost_SP_q_lists=[]\n",
    "SLA_cost_OB_q_lists=[]\n",
    "SLA_cost_TRAF_q_lists=[]\n",
    "Copex_Cost_SP_q_lists=[]\n",
    "Copex_Cost_OB_q_lists=[]\n",
    "Copex_Cost_TRAF_q_lists=[]\n",
    "\n",
    "SLA_cost_SP_metric_q_lists=[]\n",
    "SLA_cost_OB_metric_q_lists=[]\n",
    "\n",
    "SLA_cost_SP_q_lists_means=[]\n",
    "SLA_cost_OB_q_lists_means=[]\n",
    "\n",
    "\n",
    "\n",
    "Copex_Cost_SP_metric_q_lists=[]\n",
    "Copex_Cost_OB_metric_q_lists=[]\n",
    "\n",
    "Copex_Cost_SP_q_lists_means=[]\n",
    "Copex_Cost_OB_q_lists_means=[]\n",
    "\n",
    "\n",
    "\n",
    "for i in tqdm(range(len(All_results_list_pred))):\n",
    "    all_results=All_results_list_pred[i]\n",
    "    SP_q_lists.append(all_results['SP'])\n",
    "    OB_q_lists.append(all_results['OB'])\n",
    "    TRAFF_q_lists.append(all_results['TRAF'])\n",
    "    X_SP_q_lists.append(all_results['X_SP'])\n",
    "    X_OB_q_lists.append(all_results['X_OB'])\n",
    "    X_TRAF_q_lists.append(all_results['X_TRAFF'])\n",
    "\n",
    "\n",
    "\n",
    "    Net_Ben_OPT_List_SP,Net_Ben_OPT_List_OB,Net_Ben_OPT_List_TRAF=pd.DataFrame(all_results['Net_Ben_OPT_List_SP']),pd.DataFrame(all_results['Net_Ben_OPT_List_OB']),pd.DataFrame(all_results['Net_Ben_OPT_List_TRAF'])\n",
    "    Net_Ben_OPT_List_SP_q_lists.append(Net_Ben_OPT_List_SP.T.sum())\n",
    "    Net_Ben_OPT_List_OB_q_lists.append(Net_Ben_OPT_List_OB.T.sum())\n",
    "    Net_Ben_OPT_List_TRAF_q_lists.append(Net_Ben_OPT_List_TRAF.T.sum())\n",
    "    total_service_SP_pd,total_service_OB_pd,total_service_TRAF_pd=pd.DataFrame(all_results['total_service_SP_pd']),pd.DataFrame(all_results['total_service_OB_pd']),pd.DataFrame(all_results['total_service_TRAF_pd'])\n",
    "    total_service_SP_pd_list.append(total_service_SP_pd.total_slices)\n",
    "    total_service_OB_pd_list.append(total_service_OB_pd.total_slices)\n",
    "    total_service_TRAF_pd_list.append(total_service_TRAF_pd.total_slices)\n",
    "    NET_GAIN_list_SP,NET_GAIN_SP=all_results['NET_GAIN_list_SP'],all_results['NET_GAIN_SP']\n",
    "    NET_GAIN_list_OB,NET_GAIN_OB=all_results['NET_GAIN_list_OB'],all_results['NET_GAIN_OB']\n",
    "    NET_GAIN_list_SP_q_lists.append(NET_GAIN_list_SP)\n",
    "    NET_GAIN_list_OB_q_lists.append(NET_GAIN_list_OB)\n",
    "    gain_list_SP,gain_SP=(all_results['gain_list_SP']),all_results['gain_SP']\n",
    "    gain_list_OB,gain_OB=(all_results['gain_list_OB']),all_results['gain_OB']\n",
    "    gain_list_SP_q_lists.append(gain_list_SP)\n",
    "    gain_list_OB_q_lists.append(gain_list_OB)\n",
    "    allocated_Traffic_list_SP,allocated_Traffic_SP=(all_results['allocated_Traffic_list_SP']),all_results['allocated_Traffic_SP']\n",
    "    allocated_Traffic_list_OB,allocated_Traffic_OB = (all_results['allocated_Traffic_list_OB']),all_results['allocated_Traffic_OB']\n",
    "    allocated_Traffic_list_SP_q_lists.append(allocated_Traffic_list_SP)\n",
    "    allocated_Traffic_list_OB_q_lists.append(allocated_Traffic_list_OB)\n",
    "    allocated_Traffic_list_SP_q_lists_means.append(np.mean(allocated_Traffic_list_SP))\n",
    "    allocated_Traffic_list_OB_q_lists_means.append(np.mean(allocated_Traffic_list_OB))\n",
    "    real_traffic_SP_pd,real_traffic_OB_pd,real_traffic_TRAF_pd=pd.DataFrame(all_results['real_traffic_SP_pd']),pd.DataFrame(all_results['real_traffic_OB_pd']),pd.DataFrame(all_results['real_traffic_TRAF_pd'])\n",
    "    real_traffic_SP_q_lists.append(real_traffic_SP_pd.T.sum())\n",
    "    real_traffic_OB_q_lists.append(real_traffic_OB_pd.T.sum())\n",
    "    real_traffic_TRAF_q_lists.append(real_traffic_TRAF_pd.T.sum())\n",
    "    traffic_list_SP,traffic_SP=(all_results['traffic_list_SP']),all_results['traffic_SP']\n",
    "    traffic_list_OB,traffic_OB=(all_results['traffic_list_OB']),all_results['traffic_OB']\n",
    "    EuroTraff_list_SP,EuroTraff_SP=(all_results['EuroTraff_list_SP']),all_results['EuroTraff_SP']\n",
    "    EuroTraff_list_OB,EuroTraff_OB=(all_results['EuroTraff_list_OB']),all_results['EuroTraff_OB']\n",
    "    traffic_list_SP_q_lists.append(traffic_list_SP)\n",
    "    traffic_list_OB_q_lists.append(traffic_list_OB)\n",
    "    EuroTraff_list_SP_q_lists.append(EuroTraff_list_SP)\n",
    "    EuroTraff_list_OB_q_lists.append(EuroTraff_list_OB)\n",
    "    NET_GAIN_SP_qlists_means.append(NET_GAIN_SP)\n",
    "    NET_GAIN_OB_qlists_means.append(NET_GAIN_OB)\n",
    "    traffic_SP_q_lists_means.append(traffic_SP)\n",
    "    traffic_OB_q_lists_means.append(traffic_OB)\n",
    "    EuroTraff_list_SP_q_lists_means.append(EuroTraff_SP)\n",
    "    EuroTraff_list_OB_q_lists_means.append(EuroTraff_OB)\n",
    "    Euro_list_SP,Euro_SP=(all_results['Euro_list_SP']),all_results['Euro_SP']\n",
    "    Euro_list_OB,Euro_OB=(all_results['Euro_list_OB']),all_results['Euro_OB']\n",
    "    Euro_list_TRAF,Euro_TRAF=(all_results['Euro_list_TRAF']),all_results['Euro_TRAF']\n",
    "    Euro_list_SP_q_lists.append(Euro_list_SP)\n",
    "    Euro_list_OB_q_lists.append(Euro_list_OB)\n",
    "    Euro_list_TRAF_q_lists.append(Euro_list_TRAF)\n",
    "    SLA_cost_SP_q_lists.append(all_results['SLA_Cost_SP'])\n",
    "    SLA_cost_OB_q_lists.append(all_results['SLA_Cost_OB'])\n",
    "    SLA_cost_TRAF_q_lists.append(all_results['SLA_Cost_TRAF'])\n",
    "    Copex_Cost_SP_q_lists.append(all_results['Copex_Cost_SP'])\n",
    "    Copex_Cost_OB_q_lists.append(all_results['Copex_Cost_OB'])\n",
    "    Copex_Cost_TRAF_q_lists.append(all_results['Copex_Cost_TRAF'])\n",
    "    SLA_cost_SP_metric_q_lists.append(all_results['SLA_Cost_Metric_list_SP'])\n",
    "    SLA_cost_OB_metric_q_lists.append(all_results['SLA_Cost_Metric_list_OB'])\n",
    "    SLA_cost_SP_q_lists_means.append(all_results['SLA_Cost_Metric_SP'])\n",
    "    SLA_cost_OB_q_lists_means.append(all_results['SLA_Cost_Metric_OB'])\n",
    "  \n",
    "\n",
    "    Copex_Cost_SP_metric_q_lists.append(all_results['Copex_cost_Metric_list_SP'])\n",
    "    Copex_Cost_OB_metric_q_lists.append(all_results['Copex_cost_Metric_list_OB'])\n",
    "    Copex_Cost_SP_q_lists_means.append(all_results['Copex_cost_Metric_SP'])\n",
    "    Copex_Cost_OB_q_lists_means.append(all_results['Copex_cost_Metric_OB'])\n",
    "\n",
    "    Beta_SP_q_lists.append(all_results['Beta_SP'])\n",
    "    Beta_OB_q_lists.append(all_results['Beta_OB'])\n",
    "    Beta_TRAF_q_lists.append(all_results['Beta_TRAF'])\n",
    "\n",
    "\n",
    "\n"
   ]
  },
  {
   "cell_type": "code",
   "execution_count": 36,
   "metadata": {},
   "outputs": [
    {
     "data": {
      "text/plain": [
       "'Synthetic_KaNSaaS_noisy'"
      ]
     },
     "execution_count": 36,
     "metadata": {},
     "output_type": "execute_result"
    }
   ],
   "source": [
    "Experiments=['Synthetic_KaNSaaS_noisy','Synthetic_coNEXT_noisy']\n",
    "#Experiments=['Synthetic_kansaas','Synthetic_coNEXT']\n",
    "Experiment=Experiments[0]\n",
    "Experiment"
   ]
  },
  {
   "cell_type": "code",
   "execution_count": 37,
   "metadata": {},
   "outputs": [],
   "source": [
    "import datetime\n",
    "Date=datetime.datetime.now().strftime(\"%d_%m_%Y\")\n",
    "# Date=date.today().strftime('%d_%m_%Y')\n",
    "Filesave='data/Results/Figs/FINAL_PAPER/'+Date+'/'\n",
    "# Date='20_02_2023'"
   ]
  },
  {
   "cell_type": "code",
   "execution_count": 18,
   "metadata": {},
   "outputs": [],
   "source": [
    "Cost_x_axes= np.linspace(0,1,21)"
   ]
  },
  {
   "cell_type": "code",
   "execution_count": 19,
   "metadata": {},
   "outputs": [],
   "source": [
    "Experiments=['Synthetic_KaNSaaS_noisy','Synthetic_coNEXT_noisy']\n",
    "#Experiments=['Synthetic_kansaas','Synthetic_coNEXT']\n",
    "Experiment=Experiments[1]"
   ]
  },
  {
   "cell_type": "code",
   "execution_count": 20,
   "metadata": {},
   "outputs": [
    {
     "data": {
      "image/png": "[encoded data removed]",
      "text/plain": [
       "<Figure size 936x720 with 2 Axes>"
      ]
     },
     "metadata": {
      "needs_background": "light"
     },
     "output_type": "display_data"
    }
   ],
   "source": [
    "Q_Plotter(Q_list,NET_GAIN_SP_qlists_means,NET_GAIN_OB_qlists_means,NET_GAIN_SP_qlists_means,NET_GAIN_OB_qlists_means,typess='p',Experiment=Experiment)\n",
    "#plt.savefig(f'{Filesave}/Q_Plot_p.png',dpi=300)\n",
    "#savefigs_all_formats(Filesave,'Q_Plot_p')"
   ]
  },
  {
   "cell_type": "code",
   "execution_count": 22,
   "metadata": {},
   "outputs": [],
   "source": [
    "Date=date.today().strftime('%d_%m_%Y')\n",
    "Filesave='data/Results/Figs/FINAL_PAPER/'+Date+'/'"
   ]
  },
  {
   "cell_type": "markdown",
   "metadata": {},
   "source": [
    "## Tadm analysis\n"
   ]
  },
  {
   "cell_type": "code",
   "execution_count": 12,
   "metadata": {},
   "outputs": [],
   "source": [
    "def Tadm_Plotter(Tadm_list,SP_list_NORM,OB_list_NORM,SP_list_Not_Norm,OB_list_Not_Norm,title='',save=None,ylabel='',vline=True,loc=None,typess='p',y_Range=None,marker='o',Experiment=None):\n",
    "    fig,ax= plt.subplots(2,1,figsize=(13,10))\n",
    "    fig.suptitle(title)\n",
    "    OB_label=r'$\\bar{D}_{p}$'.replace('p',typess)\n",
    "    SP_label=r'$\\bar{D}_{p}^{(P)}$'.replace('p',typess)\n",
    "\n",
    "    create_plots_metrics(SP_list_NORM,Tadm_list,ax=ax,idx=0,label=SP_label,color='blue',marker=marker)\n",
    "    create_plots_metrics(OB_list_NORM,Tadm_list,ax=ax,idx=0,label=OB_label,color='orange',marker=marker)\n",
    "    #ax[0].set_xticks(np.linspace(0,1,11))\n",
    "    ax[0].grid(axis='y')\n",
    "    ax[0].set_ylabel(ylabel)\n",
    "    ax[1].set_xlabel(\"Orchestrator's interval [min]\")\n",
    "    ax[0].tick_params('x',labelrotation=-60)\n",
    "    ax[0].set_ylim([0,1.05])\n",
    "    ax[0].legend(loc=loc)\n",
    "\n",
    "    lines1=ax[0].lines[0]\n",
    "    lines2=ax[0].lines[1]\n",
    "\n",
    "\n",
    "    labels=r'$\\bar{G}_{p}$'.replace('p',typess)\n",
    "    create_plots_metrics(SP_list_Not_Norm,Tadm_list,Imrovenent_over_std_app=True,metric2nd_list=OB_list_Not_Norm,ax=ax,idx=1,marker=marker,label=labels)\n",
    "\n",
    "    lines=ax[1].lines[0]\n",
    "    lines3=lines\n",
    "    ymax=lines.get_ydata().max()+0.1\n",
    "    ymin=lines.get_ydata().min()-0.1\n",
    "    if y_Range:\n",
    "        ymin=ymax-y_Range\n",
    "\n",
    "    if ymin<0:\n",
    "        ymin=0\n",
    "        ymax=y_Range\n",
    "    #ax[1].set_xticks(np.linspace(0,1,11))\n",
    "    ax[1].grid(axis='y')\n",
    "    #ax[1].set_ylim([ymin,ymax])\n",
    "    ax[1].tick_params('x',labelrotation=-60)\n",
    "    #ax[1].set_ylabel(r'$\\bar{G}_{p}$'.replace('p',typess))\n",
    "    #  \n",
    "    ax[1].legend()\n",
    "    fig.tight_layout()\n",
    "\n",
    "    # save_x_y_data(lines1,lines2,lines3,Experiment+'_T_adm',typess)\n",
    "    "
   ]
  },
  {
   "cell_type": "code",
   "execution_count": 9,
   "metadata": {},
   "outputs": [],
   "source": [
    "Experiment='Synthetic_KaNSaaS'"
   ]
  },
  {
   "cell_type": "code",
   "execution_count": 10,
   "metadata": {},
   "outputs": [
    {
     "data": {
      "text/plain": [
       "'Synthetic_KaNSaaS'"
      ]
     },
     "execution_count": 10,
     "metadata": {},
     "output_type": "execute_result"
    }
   ],
   "source": [
    "Experiment"
   ]
  },
  {
   "cell_type": "code",
   "execution_count": 13,
   "metadata": {},
   "outputs": [
    {
     "name": "stderr",
     "output_type": "stream",
     "text": [
      "findfont: Font family [\"'DejaVu Sans'\"] not found. Falling back to DejaVu Sans.\n"
     ]
    },
    {
     "data": {
      "image/png": "[encoded data removed]",
      "text/plain": [
       "<Figure size 936x720 with 2 Axes>"
      ]
     },
     "metadata": {
      "needs_background": "light"
     },
     "output_type": "display_data"
    }
   ],
   "source": [
    "Tadm_Plotter(time_decision_NP,NET_GAIN_SP_qlists_means,NET_GAIN_OB_qlists_means,Net_Ben_OPT_List_SP_q_lists,Net_Ben_OPT_List_OB_q_lists,typess='p',Experiment=Experiment)\n",
    "#plt.savefig(f'{Filesave}/Tadm_Plot_p.png',dpi=300)\n",
    "#savefigs_all_formats(Filesave,'Tadm_Plot_p')"
   ]
  },
  {
   "attachments": {},
   "cell_type": "markdown",
   "metadata": {},
   "source": [
    "SYNTHETIC_ CSV FINAL PAPER"
   ]
  },
  {
   "attachments": {},
   "cell_type": "markdown",
   "metadata": {},
   "source": [
    "# Ctot Analyis"
   ]
  },
  {
   "cell_type": "code",
   "execution_count": 39,
   "metadata": {},
   "outputs": [
    {
     "name": "stderr",
     "output_type": "stream",
     "text": [
      "100%|██████████| 8/8 [00:30<00:00,  3.82s/it]\n"
     ]
    }
   ],
   "source": [
    "### Synthetic Traffic ###\n",
    "Ctots=[0.8,0.9,1.0,1.1,1.2,1.3,1.4,1.5]\n",
    "Q_list=[0.9]\n",
    "q=Q_list[0]\n",
    "All_results_list_pred=[]\n",
    "Fpath_Dataset='./Syn_Dataset/npys/Fcasting_exps_Synthetic_data_noisy/120/RRA/T_dec_30_Tadm_120/'\n",
    "Tslots=9481\n",
    "SLA=F.plot_5x\n",
    "Ctot_ratio=1\n",
    "pred_traf=False\n",
    "synt_traf=True\n",
    "for Ctot in tqdm(Ctots):\n",
    "    Fpath_Variables=f'./Syn_Dataset/OPT_npys/Fcasting_exps_Synthetic_data_noisy/120/RRA_OR/C_TOT/C_TOT_Ratio_{Ctot}/T_dec_30_Tadm_120/'\n",
    "    all_results=ldv.load_dataset_variables(Fpath_Dataset,Fpath_Variables,Tslots,SLA,output='All_results',Predictions=pred_traf,synthetic=synt_traf,q=q)\n",
    "    All_results_list_pred.append(all_results)"
   ]
  },
  {
   "cell_type": "code",
   "execution_count": 29,
   "metadata": {},
   "outputs": [
    {
     "name": "stderr",
     "output_type": "stream",
     "text": [
      " 25%|██▌       | 2/8 [00:09<00:26,  4.50s/it]/home/jupyter-salcala/kaNSaaS-Slicing/Global_Functions.py:973: RuntimeWarning: invalid value encountered in scalar divide\n",
      "  Ratio_known_Optimal=mean_known/mean_Optimal\n",
      "/home/jupyter-salcala/kaNSaaS-Slicing/Global_Functions.py:973: RuntimeWarning: divide by zero encountered in scalar divide\n",
      "  Ratio_known_Optimal=mean_known/mean_Optimal\n",
      "100%|██████████| 8/8 [00:36<00:00,  4.53s/it]\n"
     ]
    }
   ],
   "source": [
    "### Benchmark Traffic ###\n",
    "Ctots=[0.8,0.9,1.0,1.1,1.2,1.3,1.4,1.5]\n",
    "Q_list=[0.9]\n",
    "q=Q_list[0]\n",
    "All_results_list_pred=[]\n",
    "Tslots=9481\n",
    "SLA=F.plot_5x\n",
    "Ctot_ratio=1\n",
    "pred_traf=False\n",
    "synt_traf=True\n",
    "for Ctot in tqdm(Ctots):\n",
    "    Fpath_Dataset=f'./Syn_Dataset/Synthetic_Benchmark_noisy/CTOT/CTOT_{Ctot}/'\n",
    "    Fpath_Variables=f'./Syn_Dataset/OPT_npys/Fcasting_exps_Synthetic_data_noisy/120/RRA_OR/C_TOT/C_TOT_Ratio_{Ctot}/T_dec_30_Tadm_120/'\n",
    "    all_results=ldv.load_dataset_variables_benchmark(Fpath_Dataset,Fpath_Variables,Tslots,SLA,output='All_results',Predictions=pred_traf,synthetic=synt_traf,q=q)\n",
    "    All_results_list_pred.append(all_results)"
   ]
  },
  {
   "cell_type": "code",
   "execution_count": 40,
   "metadata": {},
   "outputs": [
    {
     "name": "stderr",
     "output_type": "stream",
     "text": [
      "  0%|          | 0/8 [00:00<?, ?it/s]"
     ]
    },
    {
     "name": "stderr",
     "output_type": "stream",
     "text": [
      "100%|██████████| 8/8 [00:00<00:00, 10.77it/s]\n"
     ]
    }
   ],
   "source": [
    "Net_Ben_OPT_List_SP_q_lists=[]\n",
    "Net_Ben_OPT_List_OB_q_lists=[]\n",
    "Net_Ben_OPT_List_TRAF_q_lists=[]\n",
    "total_service_SP_pd_list=[]\n",
    "total_service_OB_pd_list=[]\n",
    "total_service_TRAF_pd_list=[]\n",
    "NET_GAIN_list_SP_q_lists=[]\n",
    "NET_GAIN_list_OB_q_lists=[]\n",
    "gain_list_SP_q_lists=[]\n",
    "gain_list_OB_q_lists=[]\n",
    "allocated_Traffic_list_SP_q_lists=[]\n",
    "allocated_Traffic_list_OB_q_lists=[]\n",
    "SP_q_lists=[]\n",
    "traffic_list_SP_q_lists=[]\n",
    "traffic_list_OB_q_lists=[]\n",
    "EuroTraff_list_SP_q_lists=[]\n",
    "EuroTraff_list_OB_q_lists=[]\n",
    "Alpha_SP_q_lists=[]\n",
    "X_SP_q_lists=[]\n",
    "Alpha_OB_q_lists=[]\n",
    "X_OB_q_lists=[]\n",
    "Alpha_TRAF_q_lists=[]\n",
    "X_TRAF_q_lists=[]\n",
    "Beta_SP_q_lists=[]\n",
    "Beta_OB_q_lists=[]\n",
    "Beta_TRAF_q_lists=[]\n",
    "real_traffic_SP_q_lists=[]\n",
    "real_traffic_OB_q_lists=[]\n",
    "real_traffic_TRAF_q_lists=[]\n",
    "\n",
    "Euro_list_SP_q_lists=[]\n",
    "Euro_list_OB_q_lists=[]\n",
    "Euro_list_TRAF_q_lists=[]\n",
    "\n",
    "traffic_SP_q_lists_means_qlist=[]\n",
    "traffic_OB_q_lists_means_qlist=[]\n",
    "traffic_TRAF_q_lists_means_qlist=[]\n",
    "\n",
    "NET_GAIN_SP_qlists_means=[]\n",
    "NET_GAIN_OB_qlists_means=[]\n",
    "NET_GAIN_TRAF_qlists_means=[]\n",
    "\n",
    "\n",
    "traffic_SP_q_lists_means=[]\n",
    "traffic_OB_q_lists_means=[]\n",
    "traffic_TRAF_q_lists_means=[]\n",
    "\n",
    "EuroTraff_list_SP_q_lists_means=[]\n",
    "EuroTraff_list_OB_q_lists_means=[]\n",
    "\n",
    "\n",
    "SLA_cost_SP_q_lists=[]\n",
    "SLA_cost_OB_q_lists=[]\n",
    "SLA_cost_TRAF_q_lists=[]\n",
    "Copex_Cost_SP_q_lists=[]\n",
    "Copex_Cost_OB_q_lists=[]\n",
    "Copex_Cost_TRAF_q_lists=[]\n",
    "\n",
    "SLA_cost_SP_metric_q_lists=[]\n",
    "SLA_cost_OB_metric_q_lists=[]\n",
    "\n",
    "SLA_cost_SP_q_lists_means=[]\n",
    "SLA_cost_OB_q_lists_means=[]\n",
    "\n",
    "\n",
    "\n",
    "Copex_Cost_SP_metric_q_lists=[]\n",
    "Copex_Cost_OB_metric_q_lists=[]\n",
    "\n",
    "Copex_Cost_SP_q_lists_means=[]\n",
    "Copex_Cost_OB_q_lists_means=[]\n",
    "\n",
    "for i in tqdm(range(len(Ctots))):\n",
    "    all_results=All_results_list_pred[i]\n",
    "    Net_Ben_OPT_List_SP,Net_Ben_OPT_List_OB,Net_Ben_OPT_List_TRAF=pd.DataFrame(all_results['Net_Ben_OPT_List_SP']),pd.DataFrame(all_results['Net_Ben_OPT_List_OB']),pd.DataFrame(all_results['Net_Ben_OPT_List_TRAF'])\n",
    "    Net_Ben_OPT_List_SP_q_lists.append(Net_Ben_OPT_List_SP.T.sum())\n",
    "    Net_Ben_OPT_List_OB_q_lists.append(Net_Ben_OPT_List_OB.T.sum())\n",
    "    Net_Ben_OPT_List_TRAF_q_lists.append(Net_Ben_OPT_List_TRAF.T.sum())\n",
    "\n",
    "    total_service_SP_pd,total_service_OB_pd,total_service_TRAF_pd=pd.DataFrame(all_results['total_service_SP_pd']),pd.DataFrame(all_results['total_service_OB_pd']),pd.DataFrame(all_results['total_service_TRAF_pd'])\n",
    "    total_service_SP_pd_list.append(total_service_SP_pd.total_slices)\n",
    "    total_service_OB_pd_list.append(total_service_OB_pd.total_slices)\n",
    "    total_service_TRAF_pd_list.append(total_service_TRAF_pd.total_slices)\n",
    "    NET_GAIN_list_SP,NET_GAIN_SP=all_results['NET_GAIN_list_SP'],all_results['NET_GAIN_SP']\n",
    "    NET_GAIN_list_OB,NET_GAIN_OB=all_results['NET_GAIN_list_OB'],all_results['NET_GAIN_OB']\n",
    "    NET_GAIN_list_SP_q_lists.append(NET_GAIN_list_SP)\n",
    "    NET_GAIN_list_OB_q_lists.append(NET_GAIN_list_OB)\n",
    "    gain_list_SP,gain_SP=(all_results['gain_list_SP']),all_results['gain_SP']\n",
    "    gain_list_OB,gain_OB=(all_results['gain_list_OB']),all_results['gain_OB']\n",
    "    gain_list_SP_q_lists.append(gain_list_SP)\n",
    "    gain_list_OB_q_lists.append(gain_list_OB)\n",
    "    allocated_Traffic_list_SP,allocated_Traffic_SP=(all_results['allocated_Traffic_list_SP']),all_results['allocated_Traffic_SP']\n",
    "    allocated_Traffic_list_OB,allocated_Traffic_OB = (all_results['allocated_Traffic_list_OB']),all_results['allocated_Traffic_OB']\n",
    "    allocated_Traffic_list_SP_q_lists.append(allocated_Traffic_list_SP)\n",
    "    allocated_Traffic_list_OB_q_lists.append(allocated_Traffic_list_OB)\n",
    "\n",
    "\n",
    "    real_traffic_SP_pd,real_traffic_OB_pd,real_traffic_TRAF_pd=pd.DataFrame(all_results['real_traffic_SP_pd']),pd.DataFrame(all_results['real_traffic_OB_pd']),pd.DataFrame(all_results['real_traffic_TRAF_pd'])\n",
    "    real_traffic_SP_q_lists.append(real_traffic_SP_pd.T.sum())\n",
    "    real_traffic_OB_q_lists.append(real_traffic_OB_pd.T.sum())\n",
    "    real_traffic_TRAF_q_lists.append(real_traffic_TRAF_pd.T.sum())\n",
    "\n",
    "    traffic_list_SP,traffic_SP=(all_results['traffic_list_SP']),all_results['traffic_SP']\n",
    "    traffic_list_OB,traffic_OB=(all_results['traffic_list_OB']),all_results['traffic_OB']\n",
    "    EuroTraff_list_SP,EuroTraff_SP=(all_results['EuroTraff_list_SP']),all_results['EuroTraff_SP']\n",
    "    EuroTraff_list_OB,EuroTraff_OB=(all_results['EuroTraff_list_OB']),all_results['EuroTraff_OB']\n",
    "    traffic_list_SP_q_lists.append(traffic_list_SP)\n",
    "    traffic_list_OB_q_lists.append(traffic_list_OB)\n",
    "    EuroTraff_list_SP_q_lists.append(EuroTraff_list_SP)\n",
    "    EuroTraff_list_OB_q_lists.append(EuroTraff_list_OB)\n",
    "\n",
    "   \n",
    "    NET_GAIN_SP_qlists_means.append(NET_GAIN_SP)\n",
    "    NET_GAIN_OB_qlists_means.append(NET_GAIN_OB)\n",
    "\n",
    "\n",
    "\n",
    "    traffic_SP_q_lists_means.append(traffic_SP)\n",
    "    traffic_OB_q_lists_means.append(traffic_OB)\n",
    " \n",
    "\n",
    "    EuroTraff_list_SP_q_lists_means.append(EuroTraff_SP)\n",
    "    EuroTraff_list_OB_q_lists_means.append(EuroTraff_OB)\n",
    "\n",
    "  \n",
    "\n",
    "    Euro_list_SP,Euro_SP=(all_results['Euro_list_SP']),all_results['Euro_SP']\n",
    "    Euro_list_OB,Euro_OB=(all_results['Euro_list_OB']),all_results['Euro_OB']\n",
    "    Euro_list_TRAF,Euro_TRAF=(all_results['Euro_list_TRAF']),all_results['Euro_TRAF']\n",
    "    Euro_list_SP_q_lists.append(Euro_list_SP)\n",
    "    Euro_list_OB_q_lists.append(Euro_list_OB)\n",
    "    Euro_list_TRAF_q_lists.append(Euro_list_TRAF)\n",
    "\n",
    "\n",
    "    SLA_cost_SP_q_lists.append(all_results['SLA_Cost_SP'])\n",
    "    SLA_cost_OB_q_lists.append(all_results['SLA_Cost_OB'])\n",
    "    SLA_cost_TRAF_q_lists.append(all_results['SLA_Cost_TRAF'])\n",
    "    Copex_Cost_SP_q_lists.append(all_results['Copex_Cost_SP'])\n",
    "    Copex_Cost_OB_q_lists.append(all_results['Copex_Cost_OB'])\n",
    "    Copex_Cost_TRAF_q_lists.append(all_results['Copex_Cost_TRAF'])\n",
    "    SLA_cost_SP_metric_q_lists.append(all_results['SLA_Cost_Metric_list_SP'])\n",
    "    SLA_cost_OB_metric_q_lists.append(all_results['SLA_Cost_Metric_list_OB'])\n",
    "    SLA_cost_SP_q_lists_means.append(all_results['SLA_Cost_Metric_SP'])\n",
    "    SLA_cost_OB_q_lists_means.append(all_results['SLA_Cost_Metric_OB'])\n",
    "  \n",
    "\n",
    "    Copex_Cost_SP_metric_q_lists.append(all_results['Copex_cost_Metric_list_SP'])\n",
    "    Copex_Cost_OB_metric_q_lists.append(all_results['Copex_cost_Metric_list_OB'])\n",
    "    Copex_Cost_SP_q_lists_means.append(all_results['Copex_cost_Metric_SP'])\n",
    "    Copex_Cost_OB_q_lists_means.append(all_results['Copex_cost_Metric_OB'])\n",
    "\n",
    "    Beta_SP_q_lists.append(all_results['Beta_SP'])\n",
    "    Beta_OB_q_lists.append(all_results['Beta_OB'])\n",
    "    Beta_TRAF_q_lists.append(all_results['Beta_TRAF'])\n",
    "\n"
   ]
  },
  {
   "cell_type": "code",
   "execution_count": 41,
   "metadata": {},
   "outputs": [],
   "source": [
    "Ctots=[0.8,0.9,1.0,1.1,1.2,1.3,1.4,1.5]"
   ]
  },
  {
   "cell_type": "code",
   "execution_count": 42,
   "metadata": {},
   "outputs": [],
   "source": [
    "Experiment='Ctot_Exp'"
   ]
  },
  {
   "cell_type": "code",
   "execution_count": 45,
   "metadata": {},
   "outputs": [],
   "source": [
    "\n",
    "Experiments=['Synthetic_KaNSaaS_Ctot_exp','Real_coNEXT_Ctot_exp']\n",
    "Experiment=Experiments[0]"
   ]
  },
  {
   "cell_type": "code",
   "execution_count": 46,
   "metadata": {},
   "outputs": [
    {
     "data": {
      "image/png": "[encoded data removed]",
      "text/plain": [
       "<Figure size 936x720 with 2 Axes>"
      ]
     },
     "metadata": {
      "needs_background": "light"
     },
     "output_type": "display_data"
    }
   ],
   "source": [
    "Tadm_Plotter(Ctots,NET_GAIN_SP_qlists_means,NET_GAIN_OB_qlists_means,Net_Ben_OPT_List_SP_q_lists,Net_Ben_OPT_List_OB_q_lists,typess='p',Experiment=Experiment)\n",
    "#plt.savefig(f'{Filesave}/Tadm_Plot_p.png',dpi=300)\n",
    "#savefigs_all_formats(Filesave,'Tadm_Plot_p')"
   ]
  },
  {
   "cell_type": "code",
   "execution_count": null,
   "metadata": {},
   "outputs": [],
   "source": []
  }
 ],
 "metadata": {
  "kernelspec": {
   "display_name": "OPTenv",
   "language": "python",
   "name": "python3"
  },
  "language_info": {
   "codemirror_mode": {
    "name": "ipython",
    "version": 3
   },
   "file_extension": ".py",
   "mimetype": "text/x-python",
   "name": "python",
   "nbconvert_exporter": "python",
   "pygments_lexer": "ipython3",
   "version": "3.10.4"
  },
  "orig_nbformat": 4,
  "vscode": {
   "interpreter": {
    "hash": "2390d2485edce919c47a673b2ca78b9648ad4090bdf716f2f330807b7bf6a2f0"
   }
  }
 },
 "nbformat": 4,
 "nbformat_minor": 2
}
